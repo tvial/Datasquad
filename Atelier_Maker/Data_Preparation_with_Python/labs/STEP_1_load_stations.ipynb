{
  "cells": [
    {
      "metadata": {},
      "cell_type": "markdown",
      "source": "# Import packages\n\nA package (or library) contains several functions useful in a particular context. Here we import the ubiquitous data set manipulation package, `pandas`.\n\nOther packages that are frequently used in data science:\n- `numpy`: for manipulating numerical arrays and matrices (`pandas` uses it internally)\n- `matplotlib`: to display graphs\n- `sklearn`: contains a lot of machine learning functions and models"
    },
    {
      "metadata": {
        "trusted": true
      },
      "cell_type": "code",
      "source": "# import packages\nimport pandas as pd\n\n# Set some jupyter display options\nfrom IPython.display import display\npd.options.display.max_columns = None",
      "execution_count": 1,
      "outputs": []
    },
    {
      "metadata": {},
      "cell_type": "markdown",
      "source": "# Load the list of stations\n\nIn this part, we use the Pandas library in order to import the data files into our notebook. The data is then saved into a data frame called `stations`.\n\nLook at an excerpt of the file to get an idea of how it is formatted."
    },
    {
      "metadata": {
        "trusted": true
      },
      "cell_type": "code",
      "source": "# A line that begins with `!` tells Jupyter to execute a shell command.\n# Here `head` is a Linux command to display the first few lines of a text file\n!head data/stations.csv",
      "execution_count": 2,
      "outputs": [
        {
          "output_type": "stream",
          "text": "Identifiant;Geo Point;Marque;Nom\r\r\n21360004;47.37861,4.38168;Avia;AVIA Creux Moreau\r\r\n27600003;49.14759,1.33189;Elan;GARAGE POUPARDIN\r\r\n27310003;49.35606,0.81532;Carrefour Market;Carrefour Market\r\r\n29200009;48.40238,-4.4791;Intermarché;INTERMARCHE BREST CEDEX 2\r\r\n29420001;48.62827,-3.98804;Système U;Super U PLOUENAN\r\r\n5600005;44.67646,6.63422;Intermarché;INTERMARCHE\r\r\n12310001;44.39367,2.77776;Total;MR MAJOREL\r\r\n42510001;45.82099,4.17891;Carrefour Market;Carrefour Market\r\r\n42450001;45.54196,4.18553;Elan;SARL GARAGE BARCET\r\r\n",
          "name": "stdout"
        }
      ]
    },
    {
      "metadata": {
        "trusted": true
      },
      "cell_type": "code",
      "source": "# Read the file in memory as a data frame\nstations = pd.read_csv('data/stations.csv', sep='''###CODE HERE###''')",
      "execution_count": 3,
      "outputs": []
    },
    {
      "metadata": {
        "trusted": true
      },
      "cell_type": "code",
      "source": "# Check the first few records\nstations.head()",
      "execution_count": 4,
      "outputs": [
        {
          "output_type": "execute_result",
          "execution_count": 4,
          "data": {
            "text/html": "<div>\n<table border=\"1\" class=\"dataframe\">\n  <thead>\n    <tr style=\"text-align: right;\">\n      <th></th>\n      <th>Identifiant</th>\n      <th>Geo Point</th>\n      <th>Marque</th>\n      <th>Nom</th>\n    </tr>\n  </thead>\n  <tbody>\n    <tr>\n      <th>0</th>\n      <td>21360004</td>\n      <td>47.37861,4.38168</td>\n      <td>Avia</td>\n      <td>AVIA Creux Moreau</td>\n    </tr>\n    <tr>\n      <th>1</th>\n      <td>27600003</td>\n      <td>49.14759,1.33189</td>\n      <td>Elan</td>\n      <td>GARAGE POUPARDIN</td>\n    </tr>\n    <tr>\n      <th>2</th>\n      <td>27310003</td>\n      <td>49.35606,0.81532</td>\n      <td>Carrefour Market</td>\n      <td>Carrefour Market</td>\n    </tr>\n    <tr>\n      <th>3</th>\n      <td>29200009</td>\n      <td>48.40238,-4.4791</td>\n      <td>Intermarché</td>\n      <td>INTERMARCHE BREST CEDEX 2</td>\n    </tr>\n    <tr>\n      <th>4</th>\n      <td>29420001</td>\n      <td>48.62827,-3.98804</td>\n      <td>Système U</td>\n      <td>Super U PLOUENAN</td>\n    </tr>\n  </tbody>\n</table>\n</div>",
            "text/plain": "   Identifiant          Geo Point            Marque                        Nom\n0     21360004   47.37861,4.38168              Avia          AVIA Creux Moreau\n1     27600003   49.14759,1.33189              Elan           GARAGE POUPARDIN\n2     27310003   49.35606,0.81532  Carrefour Market           Carrefour Market\n3     29200009   48.40238,-4.4791       Intermarché  INTERMARCHE BREST CEDEX 2\n4     29420001  48.62827,-3.98804         Système U           Super U PLOUENAN"
          },
          "metadata": {}
        }
      ]
    },
    {
      "metadata": {},
      "cell_type": "markdown",
      "source": "In the table above, we notice:\n- the header with the list of fields (or columns) making up the data frame: *Identifiant, Geo Point, Marque, Nom*\n- the *index*, which in this case is akin to the row number in Excel (only it starts at 0). There was no such column in the file, Pandas added it automatically for us"
    },
    {
      "metadata": {},
      "cell_type": "markdown",
      "source": "# Split the `Geo Point` field\n\nYou may have noticed that `Geo Point` is a a pair of numbers (most probably *latitude, longitude*). Pandas read it as a string but we want the two components.\n\n```\n'49.12625,6.27557'   -->   (49.12625, 6.27557)\n```\n\nFor this, we are going to split the field in two, storing the result as a small data frame."
    },
    {
      "metadata": {},
      "cell_type": "markdown",
      "source": "Before we split, here are a few operations on data frames we are going to use:\n- `stations['Some Column']` is for taking the `Some Column` field from the data frame, yielding a _series_\n- `series.str` means \"Let's say the series is made of strings, so we can apply stringy functions on each value\"\n- `series.str.split()` is the text splitting function. We give it a separator, and the `expand` parameter tells Pandas to make a data frame with one column per split component\n- `stations.columns` returns the names of the fields making up the data frame. We can also set the names, with the `=` operator"
    },
    {
      "metadata": {
        "trusted": true
      },
      "cell_type": "code",
      "source": "# Create a smaller data frame from the split strings\ngeo_points = stations['Geo Point'].str.split(',', expand=True)\ngeo_points.columns = ['''###CODE HERE###''']",
      "execution_count": 5,
      "outputs": []
    },
    {
      "metadata": {
        "trusted": true
      },
      "cell_type": "code",
      "source": "# Check we have split right\ngeo_points.head()",
      "execution_count": 6,
      "outputs": [
        {
          "output_type": "execute_result",
          "execution_count": 6,
          "data": {
            "text/html": "<div>\n<table border=\"1\" class=\"dataframe\">\n  <thead>\n    <tr style=\"text-align: right;\">\n      <th></th>\n      <th>Latitude</th>\n      <th>Longitude</th>\n    </tr>\n  </thead>\n  <tbody>\n    <tr>\n      <th>0</th>\n      <td>47.37861</td>\n      <td>4.38168</td>\n    </tr>\n    <tr>\n      <th>1</th>\n      <td>49.14759</td>\n      <td>1.33189</td>\n    </tr>\n    <tr>\n      <th>2</th>\n      <td>49.35606</td>\n      <td>0.81532</td>\n    </tr>\n    <tr>\n      <th>3</th>\n      <td>48.40238</td>\n      <td>-4.4791</td>\n    </tr>\n    <tr>\n      <th>4</th>\n      <td>48.62827</td>\n      <td>-3.98804</td>\n    </tr>\n  </tbody>\n</table>\n</div>",
            "text/plain": "   Latitude Longitude\n0  47.37861   4.38168\n1  49.14759   1.33189\n2  49.35606   0.81532\n3  48.40238   -4.4791\n4  48.62827  -3.98804"
          },
          "metadata": {}
        }
      ]
    },
    {
      "metadata": {
        "trusted": true
      },
      "cell_type": "code",
      "source": "# How does it look?\ngeo_points.dtypes",
      "execution_count": 7,
      "outputs": [
        {
          "output_type": "execute_result",
          "execution_count": 7,
          "data": {
            "text/plain": "Latitude     object\nLongitude    object\ndtype: object"
          },
          "metadata": {}
        }
      ]
    },
    {
      "metadata": {},
      "cell_type": "markdown",
      "source": "`.dtypes` gives the *data types* of the columns in the data frame. Here are a few:\n- `int64` means integers\n- `float64` means decimal numbers\n- `datetime64` means timestamps (dates with times)\n- `object` means anything else -- usually strings"
    },
    {
      "metadata": {
        "trusted": true
      },
      "cell_type": "code",
      "source": "# We must convert the cells of the data frame into the correct type\ngeo_points = geo_points.astype(float)",
      "execution_count": 8,
      "outputs": []
    },
    {
      "metadata": {
        "trusted": true
      },
      "cell_type": "code",
      "source": "# Let's check\ngeo_points.dtypes",
      "execution_count": 9,
      "outputs": [
        {
          "output_type": "execute_result",
          "execution_count": 9,
          "data": {
            "text/plain": "Latitude     float64\nLongitude    float64\ndtype: object"
          },
          "metadata": {}
        }
      ]
    },
    {
      "metadata": {},
      "cell_type": "markdown",
      "source": "# Inject the coordinates back into the original data frame\n\nNow we have 2 data frames: the original one, and the smaller one with the coordinates after splitting. We want to put them together and get a \"complete\" data frame.\n\nThere are several ways to do this; we are going to use a Pandas operations called **merge** (if you're familiar with SQL, it is exactly like a join).\n\nIn order to merge data frames together, we need to know some information that is common to them, so Pandas can match rows from both sides. Here, the most appropriate information is not a field, it's the **index**.\n\nRecall how we computed `geo_points` from `stations`, by applying a function (`str.split()`) on each row? It turns out that Pandas has copied the values of the index into the new data frame: each row from `geo_points` can be traced back to its original from `stations`."
    },
    {
      "metadata": {
        "trusted": true
      },
      "cell_type": "code",
      "source": "# In case we don't believe me :)\n# `.index` yields the list of values from an index of a dataframe\n# The results indicates that *all* values are identical\n(geo_points.index == stations.index).all()",
      "execution_count": 10,
      "outputs": [
        {
          "output_type": "execute_result",
          "execution_count": 10,
          "data": {
            "text/plain": "True"
          },
          "metadata": {}
        }
      ]
    },
    {
      "metadata": {},
      "cell_type": "markdown",
      "source": "Now we do the merge, asking Pandas to match on indices of both sides. While we're at it, we remove the column with the 2 coordinates together as a string, we don't need it any more. We tell `.drop()` that the label we want to remove lies on axis 1, the axis for columns."
    },
    {
      "metadata": {
        "trusted": true
      },
      "cell_type": "code",
      "source": "stations_with_coordinates = pd.merge('''###CODE HERE###''', '''###CODE HERE###''', left_index=True, right_index=True).drop('Geo Point', axis=1)",
      "execution_count": 15,
      "outputs": []
    },
    {
      "metadata": {
        "trusted": true
      },
      "cell_type": "code",
      "source": "# Always give a look at the result\nstations_with_coordinates.head()",
      "execution_count": 16,
      "outputs": [
        {
          "output_type": "execute_result",
          "execution_count": 16,
          "data": {
            "text/html": "<div>\n<table border=\"1\" class=\"dataframe\">\n  <thead>\n    <tr style=\"text-align: right;\">\n      <th></th>\n      <th>Identifiant</th>\n      <th>Marque</th>\n      <th>Nom</th>\n      <th>Latitude</th>\n      <th>Longitude</th>\n    </tr>\n  </thead>\n  <tbody>\n    <tr>\n      <th>0</th>\n      <td>21360004</td>\n      <td>Avia</td>\n      <td>AVIA Creux Moreau</td>\n      <td>47.37861</td>\n      <td>4.38168</td>\n    </tr>\n    <tr>\n      <th>1</th>\n      <td>27600003</td>\n      <td>Elan</td>\n      <td>GARAGE POUPARDIN</td>\n      <td>49.14759</td>\n      <td>1.33189</td>\n    </tr>\n    <tr>\n      <th>2</th>\n      <td>27310003</td>\n      <td>Carrefour Market</td>\n      <td>Carrefour Market</td>\n      <td>49.35606</td>\n      <td>0.81532</td>\n    </tr>\n    <tr>\n      <th>3</th>\n      <td>29200009</td>\n      <td>Intermarché</td>\n      <td>INTERMARCHE BREST CEDEX 2</td>\n      <td>48.40238</td>\n      <td>-4.47910</td>\n    </tr>\n    <tr>\n      <th>4</th>\n      <td>29420001</td>\n      <td>Système U</td>\n      <td>Super U PLOUENAN</td>\n      <td>48.62827</td>\n      <td>-3.98804</td>\n    </tr>\n  </tbody>\n</table>\n</div>",
            "text/plain": "   Identifiant            Marque                        Nom  Latitude  \\\n0     21360004              Avia          AVIA Creux Moreau  47.37861   \n1     27600003              Elan           GARAGE POUPARDIN  49.14759   \n2     27310003  Carrefour Market           Carrefour Market  49.35606   \n3     29200009       Intermarché  INTERMARCHE BREST CEDEX 2  48.40238   \n4     29420001         Système U           Super U PLOUENAN  48.62827   \n\n   Longitude  \n0    4.38168  \n1    1.33189  \n2    0.81532  \n3   -4.47910  \n4   -3.98804  "
          },
          "metadata": {}
        }
      ]
    },
    {
      "metadata": {
        "trusted": true
      },
      "cell_type": "code",
      "source": "# One last check!\nstations_with_coordinates.dtypes",
      "execution_count": 17,
      "outputs": [
        {
          "output_type": "execute_result",
          "execution_count": 17,
          "data": {
            "text/plain": "Identifiant      int64\nMarque          object\nNom             object\nLatitude       float64\nLongitude      float64\ndtype: object"
          },
          "metadata": {}
        }
      ]
    },
    {
      "metadata": {},
      "cell_type": "markdown",
      "source": "# Save the result\n\nNow we have enhanced our data frame, save it back to a new CSV file. The `pd.read_csv()` from the beginning has a counterpart, `stations.to_csv()`. One notable difference is the `index` arguments, which we set to `False` because we don't want the index of the data frame in the file."
    },
    {
      "metadata": {
        "trusted": true
      },
      "cell_type": "code",
      "source": "stations_with_coordinates.to_csv('output/stations_with_coordinates.csv', sep=';', index=False)",
      "execution_count": 18,
      "outputs": []
    },
    {
      "metadata": {
        "trusted": true
      },
      "cell_type": "code",
      "source": "!head output/stations_with_coordinates.csv",
      "execution_count": 19,
      "outputs": [
        {
          "output_type": "stream",
          "text": "Identifiant;Marque;Nom;Latitude;Longitude\r\n21360004;Avia;AVIA Creux Moreau;47.37861;4.38168\r\n27600003;Elan;GARAGE POUPARDIN;49.14759;1.33189\r\n27310003;Carrefour Market;Carrefour Market;49.35606;0.81532\r\n29200009;Intermarché;INTERMARCHE BREST CEDEX 2;48.40238;-4.4791\r\n29420001;Système U;Super U PLOUENAN;48.62827;-3.98804\r\n5600005;Intermarché;INTERMARCHE;44.67646;6.63422\r\n12310001;Total;MR MAJOREL;44.39367;2.77776\r\n42510001;Carrefour Market;Carrefour Market;45.82099;4.17891\r\n42450001;Elan;SARL GARAGE BARCET;45.54196;4.18553\r\n",
          "name": "stdout"
        }
      ]
    },
    {
      "metadata": {
        "trusted": false
      },
      "cell_type": "code",
      "source": "",
      "execution_count": null,
      "outputs": []
    }
  ],
  "metadata": {
    "kernelspec": {
      "name": "python3",
      "display_name": "Python 3",
      "language": "python"
    },
    "language_info": {
      "mimetype": "text/x-python",
      "nbconvert_exporter": "python",
      "name": "python",
      "file_extension": ".py",
      "version": "3.5.4",
      "pygments_lexer": "ipython3",
      "codemirror_mode": {
        "version": 3,
        "name": "ipython"
      }
    }
  },
  "nbformat": 4,
  "nbformat_minor": 2
}