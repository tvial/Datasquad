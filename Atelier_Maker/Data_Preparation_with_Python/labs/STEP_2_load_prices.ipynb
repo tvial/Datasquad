{
  "cells": [
    {
      "metadata": {},
      "cell_type": "markdown",
      "source": "# Import packages\n\nWe import the `pandas` package here too. In addition, we import `xml.etree.ElementTree`, which offers a XML parser that will prove very useful in our context!"
    },
    {
      "metadata": {
        "trusted": true
      },
      "cell_type": "code",
      "source": "# import packages\nimport pandas as pd\nimport xml.etree.ElementTree as et\n\n# Set some jupyter display options\nfrom IPython.display import display\npd.options.display.max_columns = None",
      "execution_count": 1,
      "outputs": []
    },
    {
      "metadata": {},
      "cell_type": "markdown",
      "source": "# Get to know the data\n\nJust like before, it is important to catch a glimpse of our source files to understand how they are built. Now we have  XML files that look like the following:\n\n```xml\n<?xml version=\"1.0\" encoding=\"ISO-8859-1\" standalone=\"yes\"?>\n<pdv_liste>\n    <pdv id=\"1000001\" latitude=\"4620114\" longitude=\"519791\" cp=\"01000\" pop=\"R\">\n      <adresse>596 AVENUE DE TREVOUX</adresse>\n      <ville>SAINT-DENIS-L&#xE8;S-BOURG</ville>\n      <horaires automate-24-24=\"\">\n        <jour id=\"1\" nom=\"Lundi\" ferme=\"\"/>\n        <jour id=\"2\" nom=\"Mardi\" ferme=\"\"/>\n        <jour id=\"3\" nom=\"Mercredi\" ferme=\"\"/>\n        <jour id=\"4\" nom=\"Jeudi\" ferme=\"\"/>\n        <jour id=\"5\" nom=\"Vendredi\" ferme=\"\"/>\n        <jour id=\"6\" nom=\"Samedi\" ferme=\"\"/>\n        <jour id=\"7\" nom=\"Dimanche\" ferme=\"\"/>\n      </horaires>\n      <services>\n        <service>Station de gonflage</service>\n        <service>Vente de gaz domestique (Butane, Propane)</service>\n        <service>Automate CB</service>\n      </services>\n      <prix nom=\"Gazole\" id=\"1\" maj=\"2018-01-06T12:20:27\" valeur=\"1376\"/>\n      <prix nom=\"Gazole\" id=\"1\" maj=\"2018-01-11T09:09:34\" valeur=\"1389\"/>\n      <!-- ... (other \"prix\") -->\n      <prix nom=\"SP98\" id=\"6\" maj=\"2018-12-27T09:53:35\" valeur=\"1435\"/>\n      <prix nom=\"SP98\" id=\"6\" maj=\"2018-12-31T09:40:57\" valeur=\"1435\"/>\n      <rupture id=\"6\" nom=\"SP98\" debut=\"2018-12-06T11:24:25\" fin=\"2018-12-07T15:16:53\"/>\n      <rupture id=\"4\" nom=\"GPLc\" debut=\"2017-09-16T09:50:23\" fin=\"\"/>\n      <rupture id=\"5\" nom=\"E10\" debut=\"2015-02-09T16:19:00\" fin=\"2018-11-19T17:01:01\"/>\n      <!-- ... (other \"rupture\") -->\n      <rupture id=\"5\" nom=\"E10\" debut=\"2018-12-13T09:49:49\" fin=\"\"/>\n      <fermeture/>\n    </pdv>\n    <!-- ... (other \"pdv\") -->\n</pdv_liste>\n\n```\n\nLots of stuff indeed. We will use only a handful of the information therein. More precisely, we will use the following:\n\n- `pdv`: a gas station = point of sale (*point de vente*)\n  - `id`: the unique identified of the station\n  - `latitude`, `longitude`: coordinates, multiplied by 100,000\n  - `cp`: zip code (*code postal*)\n  - `pop`: where the station is situated: `A` for a highway (*autoroute*), `R` for a road (*route*)\n- `prix`: a price for a type of gas and a point in time\n  - `nom`: type of gas\n  - `maj`: last update date of the price (*there should be a timezone, let's assume it's in local time*)\n  - `valeur`: price in euros, multiplied by 1,000"
    },
    {
      "metadata": {},
      "cell_type": "markdown",
      "source": "# Load and format the data\n\n`xml.etree.ElementTree` works as follows: once the XML file is loaded in memory, take the **root** of the tree. Find all **child nodes** matching a certain criteria, and do something with them, like reading their **attributes** -- or iterating on their own children, recursively, until we have gathered all the information we wanted.\n\nIn a real case we would have several input files, namely `PrixCarburants_annuel_<YYYY>.xml`, `<YYYY>` being the year. They are structured in the same way. The best way to deal with this is to create a **function** that will read a file and return a data frame with all the interesting data of the corresponding year. Then we can call the function as many times as we want, easily."
    },
    {
      "metadata": {
        "trusted": true
      },
      "cell_type": "code",
      "source": "# Prepare the list of attributes we will keep\nPDV_ATTRIBUTES = ['''###CODE HERE###''']\nPRIX_ATTRIBUTES = ['''###CODE HERE###''']\n\ndef read_prices_from_xml(input_path):\n    # Load the XML file\n    tree = et.parse(input_path)\n    \n    # Get a hand on the root\n    pdv_liste = tree.getroot()\n    \n    # Each row will be a Python dictionary with {attribute: value}\n    rows = []\n    \n    # Iterate over *stations*\n    for pdv in pdv_liste.findall('''###CODE HERE###'''):      \n        # Put the interesting attributes into a dictionary {pdv attribute: value}\n        pdv_attrib = {key: pdv.attrib.get(key) for key in PDV_ATTRIBUTES}\n        \n        # Iterate over *prices* in pdv\n        for prix in pdv.findall('''###CODE HERE###'''):\n            # Put the interesting attributes into a dictionary {prix attribute: value}\n            prix_attrib = {key: prix.attrib.get(key) for key in PRIX_ATTRIBUTES}\n            \n            # Merge the 2 small dictionaries into one\n            # A new dictionary is created every time to prevent attributes from leaking between rows\n            row = dict(pdv_attrib)\n            row.update(prix_attrib)\n            \n            # Add the row to the list\n            rows.append(row)\n            \n    return rows\n    \n\ndef prices_to_data_frame(input_path):\n    # Get the list of rows\n    rows = read_prices_from_xml(input_path)\n            \n    # Create a data frame. Pandas is smart enough to see it gets dictionaries, and turns the keys into column names\n    prices = pd.DataFrame(rows)\n\n    # Finally return the result\n    return prices",
      "execution_count": 2,
      "outputs": []
    },
    {
      "metadata": {
        "trusted": true
      },
      "cell_type": "code",
      "source": "# A very small sample file is provided so you can test your code quickly\n# The 2 \"None\" on rows with index 4 and 8 (price and gas_type, respectively) are expected\nprices_to_data_frame('data/sample.xml')",
      "execution_count": 3,
      "outputs": [
        {
          "output_type": "execute_result",
          "execution_count": 3,
          "data": {
            "text/html": "<div>\n<table border=\"1\" class=\"dataframe\">\n  <thead>\n    <tr style=\"text-align: right;\">\n      <th></th>\n      <th>cp</th>\n      <th>id</th>\n      <th>latitude</th>\n      <th>longitude</th>\n      <th>maj</th>\n      <th>nom</th>\n      <th>pop</th>\n      <th>valeur</th>\n    </tr>\n  </thead>\n  <tbody>\n    <tr>\n      <th>0</th>\n      <td>01000</td>\n      <td>1000001</td>\n      <td>4620114</td>\n      <td>519791</td>\n      <td>2018-11-05T10:54:17</td>\n      <td>SP95</td>\n      <td>R</td>\n      <td>1471</td>\n    </tr>\n    <tr>\n      <th>1</th>\n      <td>01000</td>\n      <td>1000001</td>\n      <td>4620114</td>\n      <td>519791</td>\n      <td>2018-11-05T10:54:18</td>\n      <td>SP95</td>\n      <td>R</td>\n      <td>1471</td>\n    </tr>\n    <tr>\n      <th>2</th>\n      <td>01000</td>\n      <td>1000001</td>\n      <td>4620114</td>\n      <td>519791</td>\n      <td>2018-11-10T10:43:04</td>\n      <td>SP95</td>\n      <td>R</td>\n      <td>1441</td>\n    </tr>\n    <tr>\n      <th>3</th>\n      <td>01000</td>\n      <td>1000002</td>\n      <td>4621842</td>\n      <td>522767</td>\n      <td>2018-01-03T09:55:42</td>\n      <td>Gazole</td>\n      <td>R</td>\n      <td>1374</td>\n    </tr>\n    <tr>\n      <th>4</th>\n      <td>01000</td>\n      <td>1000002</td>\n      <td>4621842</td>\n      <td>522767</td>\n      <td>2018-08-28T10:05:42</td>\n      <td>SP98</td>\n      <td>R</td>\n      <td>None</td>\n    </tr>\n    <tr>\n      <th>5</th>\n      <td>01000</td>\n      <td>1000002</td>\n      <td>4621842</td>\n      <td>522767</td>\n      <td>2018-12-31T06:21:48</td>\n      <td>SP98</td>\n      <td>R</td>\n      <td>1399</td>\n    </tr>\n    <tr>\n      <th>6</th>\n      <td>01000</td>\n      <td>1000009</td>\n      <td>4619566</td>\n      <td>522935</td>\n      <td>2018-01-02T08:29:19</td>\n      <td>Gazole</td>\n      <td>R</td>\n      <td>1367</td>\n    </tr>\n    <tr>\n      <th>7</th>\n      <td>01000</td>\n      <td>1000009</td>\n      <td>4619566</td>\n      <td>522935</td>\n      <td>2018-10-05T15:12:56</td>\n      <td>E10</td>\n      <td>R</td>\n      <td>1510</td>\n    </tr>\n    <tr>\n      <th>8</th>\n      <td>01000</td>\n      <td>1000009</td>\n      <td>4619566</td>\n      <td>522935</td>\n      <td>2018-10-06T09:57:08</td>\n      <td>None</td>\n      <td>R</td>\n      <td>1515</td>\n    </tr>\n    <tr>\n      <th>9</th>\n      <td>01000</td>\n      <td>1000009</td>\n      <td>4619566</td>\n      <td>522935</td>\n      <td>2018-10-13T09:48:44</td>\n      <td>E10</td>\n      <td>R</td>\n      <td>1509</td>\n    </tr>\n  </tbody>\n</table>\n</div>",
            "text/plain": "      cp       id latitude longitude                  maj     nom pop valeur\n0  01000  1000001  4620114    519791  2018-11-05T10:54:17    SP95   R   1471\n1  01000  1000001  4620114    519791  2018-11-05T10:54:18    SP95   R   1471\n2  01000  1000001  4620114    519791  2018-11-10T10:43:04    SP95   R   1441\n3  01000  1000002  4621842    522767  2018-01-03T09:55:42  Gazole   R   1374\n4  01000  1000002  4621842    522767  2018-08-28T10:05:42    SP98   R   None\n5  01000  1000002  4621842    522767  2018-12-31T06:21:48    SP98   R   1399\n6  01000  1000009  4619566    522935  2018-01-02T08:29:19  Gazole   R   1367\n7  01000  1000009  4619566    522935  2018-10-05T15:12:56     E10   R   1510\n8  01000  1000009  4619566    522935  2018-10-06T09:57:08    None   R   1515\n9  01000  1000009  4619566    522935  2018-10-13T09:48:44     E10   R   1509"
          },
          "metadata": {}
        }
      ]
    },
    {
      "metadata": {},
      "cell_type": "markdown",
      "source": "# Save the results to a single CSV file\n\nNow we know how to turn one XML file into a data frame. We will convert the 2019 prices and save the result.\n\nNote the use of `%%time` at the beginning of the following cells. They are called *Jupyter (or IPython) magics* as they are not part of the Python language. They instruct Jupyter to measure the time taken to execute the cell. Sometimes you want to know how much it takes on a sample before extrapolating, in order to decide if your code needs optimization."
    },
    {
      "metadata": {
        "trusted": true
      },
      "cell_type": "code",
      "source": "%%time\n\nprices = prices_to_data_frame('data/PrixCarburants_T12019.xml')",
      "execution_count": 4,
      "outputs": [
        {
          "output_type": "stream",
          "text": "CPU times: user 1min 4s, sys: 12.8 s, total: 1min 17s\nWall time: 1min 26s\n",
          "name": "stdout"
        }
      ]
    },
    {
      "metadata": {
        "trusted": true
      },
      "cell_type": "code",
      "source": "prices.head()",
      "execution_count": 5,
      "outputs": [
        {
          "output_type": "execute_result",
          "execution_count": 5,
          "data": {
            "text/html": "<div>\n<table border=\"1\" class=\"dataframe\">\n  <thead>\n    <tr style=\"text-align: right;\">\n      <th></th>\n      <th>cp</th>\n      <th>id</th>\n      <th>latitude</th>\n      <th>longitude</th>\n      <th>maj</th>\n      <th>nom</th>\n      <th>pop</th>\n      <th>valeur</th>\n    </tr>\n  </thead>\n  <tbody>\n    <tr>\n      <th>0</th>\n      <td>01000</td>\n      <td>1000001</td>\n      <td>4620114</td>\n      <td>519791</td>\n      <td>2019-01-04T10:53:48</td>\n      <td>Gazole</td>\n      <td>R</td>\n      <td>1328</td>\n    </tr>\n    <tr>\n      <th>1</th>\n      <td>01000</td>\n      <td>1000001</td>\n      <td>4620114</td>\n      <td>519791</td>\n      <td>2019-01-07T10:25:25</td>\n      <td>Gazole</td>\n      <td>R</td>\n      <td>1348</td>\n    </tr>\n    <tr>\n      <th>2</th>\n      <td>01000</td>\n      <td>1000001</td>\n      <td>4620114</td>\n      <td>519791</td>\n      <td>2019-01-10T08:54:28</td>\n      <td>Gazole</td>\n      <td>R</td>\n      <td>1374</td>\n    </tr>\n    <tr>\n      <th>3</th>\n      <td>01000</td>\n      <td>1000001</td>\n      <td>4620114</td>\n      <td>519791</td>\n      <td>2019-01-11T10:01:54</td>\n      <td>Gazole</td>\n      <td>R</td>\n      <td>1387</td>\n    </tr>\n    <tr>\n      <th>4</th>\n      <td>01000</td>\n      <td>1000001</td>\n      <td>4620114</td>\n      <td>519791</td>\n      <td>2019-01-14T11:04:53</td>\n      <td>Gazole</td>\n      <td>R</td>\n      <td>1394</td>\n    </tr>\n  </tbody>\n</table>\n</div>",
            "text/plain": "      cp       id latitude longitude                  maj     nom pop valeur\n0  01000  1000001  4620114    519791  2019-01-04T10:53:48  Gazole   R   1328\n1  01000  1000001  4620114    519791  2019-01-07T10:25:25  Gazole   R   1348\n2  01000  1000001  4620114    519791  2019-01-10T08:54:28  Gazole   R   1374\n3  01000  1000001  4620114    519791  2019-01-11T10:01:54  Gazole   R   1387\n4  01000  1000001  4620114    519791  2019-01-14T11:04:53  Gazole   R   1394"
          },
          "metadata": {}
        }
      ]
    },
    {
      "metadata": {
        "trusted": true
      },
      "cell_type": "code",
      "source": "%%time\n\nprices.to_csv('output/prices.csv', sep=';', index=False)",
      "execution_count": 6,
      "outputs": [
        {
          "output_type": "stream",
          "text": "CPU times: user 16.7 s, sys: 10.5 s, total: 27.2 s\nWall time: 1min 10s\n",
          "name": "stdout"
        }
      ]
    },
    {
      "metadata": {
        "trusted": true
      },
      "cell_type": "code",
      "source": "!head output/prices.csv",
      "execution_count": 7,
      "outputs": [
        {
          "output_type": "stream",
          "text": "cp;id;latitude;longitude;maj;nom;pop;valeur\r\n01000;1000001;4620114;519791;2019-01-04T10:53:48;Gazole;R;1328\r\n01000;1000001;4620114;519791;2019-01-07T10:25:25;Gazole;R;1348\r\n01000;1000001;4620114;519791;2019-01-10T08:54:28;Gazole;R;1374\r\n01000;1000001;4620114;519791;2019-01-11T10:01:54;Gazole;R;1387\r\n01000;1000001;4620114;519791;2019-01-14T11:04:53;Gazole;R;1394\r\n01000;1000001;4620114;519791;2019-01-16T10:21:21;Gazole;R;1394\r\n01000;1000001;4620114;519791;2019-01-17T08:30:12;Gazole;R;1391\r\n01000;1000001;4620114;519791;2019-01-18T10:08:25;Gazole;R;1401\r\n01000;1000001;4620114;519791;2019-01-21T10:30:12;Gazole;R;1401\r\n",
          "name": "stdout"
        }
      ]
    },
    {
      "metadata": {
        "trusted": false
      },
      "cell_type": "code",
      "source": "",
      "execution_count": null,
      "outputs": []
    }
  ],
  "metadata": {
    "kernelspec": {
      "name": "python3",
      "display_name": "Python 3",
      "language": "python"
    },
    "language_info": {
      "mimetype": "text/x-python",
      "nbconvert_exporter": "python",
      "name": "python",
      "pygments_lexer": "ipython3",
      "version": "3.5.4",
      "file_extension": ".py",
      "codemirror_mode": {
        "version": 3,
        "name": "ipython"
      }
    }
  },
  "nbformat": 4,
  "nbformat_minor": 2
}