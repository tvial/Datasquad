{
  "cells": [
    {
      "metadata": {},
      "cell_type": "markdown",
      "source": "# Import packages\n\nAs usual, we import `pandas`."
    },
    {
      "metadata": {
        "trusted": true
      },
      "cell_type": "code",
      "source": "# import packages\nimport pandas as pd\n\n# Set some jupyter display options\nfrom IPython.display import display\npd.options.display.max_columns = None",
      "execution_count": 1,
      "outputs": []
    },
    {
      "metadata": {},
      "cell_type": "markdown",
      "source": "# Preprocess prices\n\nFirst load our previously-saved file."
    },
    {
      "metadata": {
        "trusted": true
      },
      "cell_type": "code",
      "source": "prices = pd.read_csv('output/prices.csv', sep=';')",
      "execution_count": 2,
      "outputs": []
    },
    {
      "metadata": {
        "trusted": true
      },
      "cell_type": "code",
      "source": "prices.head()",
      "execution_count": 3,
      "outputs": [
        {
          "output_type": "execute_result",
          "execution_count": 3,
          "data": {
            "text/plain": "     cp       id   latitude  longitude                  maj     nom pop  \\\n0  1000  1000001  4620114.0   519791.0  2019-01-04T10:53:48  Gazole   R   \n1  1000  1000001  4620114.0   519791.0  2019-01-07T10:25:25  Gazole   R   \n2  1000  1000001  4620114.0   519791.0  2019-01-10T08:54:28  Gazole   R   \n3  1000  1000001  4620114.0   519791.0  2019-01-11T10:01:54  Gazole   R   \n4  1000  1000001  4620114.0   519791.0  2019-01-14T11:04:53  Gazole   R   \n\n   valeur  \n0  1328.0  \n1  1348.0  \n2  1374.0  \n3  1387.0  \n4  1394.0  ",
            "text/html": "<div>\n<table border=\"1\" class=\"dataframe\">\n  <thead>\n    <tr style=\"text-align: right;\">\n      <th></th>\n      <th>cp</th>\n      <th>id</th>\n      <th>latitude</th>\n      <th>longitude</th>\n      <th>maj</th>\n      <th>nom</th>\n      <th>pop</th>\n      <th>valeur</th>\n    </tr>\n  </thead>\n  <tbody>\n    <tr>\n      <th>0</th>\n      <td>1000</td>\n      <td>1000001</td>\n      <td>4620114.0</td>\n      <td>519791.0</td>\n      <td>2019-01-04T10:53:48</td>\n      <td>Gazole</td>\n      <td>R</td>\n      <td>1328.0</td>\n    </tr>\n    <tr>\n      <th>1</th>\n      <td>1000</td>\n      <td>1000001</td>\n      <td>4620114.0</td>\n      <td>519791.0</td>\n      <td>2019-01-07T10:25:25</td>\n      <td>Gazole</td>\n      <td>R</td>\n      <td>1348.0</td>\n    </tr>\n    <tr>\n      <th>2</th>\n      <td>1000</td>\n      <td>1000001</td>\n      <td>4620114.0</td>\n      <td>519791.0</td>\n      <td>2019-01-10T08:54:28</td>\n      <td>Gazole</td>\n      <td>R</td>\n      <td>1374.0</td>\n    </tr>\n    <tr>\n      <th>3</th>\n      <td>1000</td>\n      <td>1000001</td>\n      <td>4620114.0</td>\n      <td>519791.0</td>\n      <td>2019-01-11T10:01:54</td>\n      <td>Gazole</td>\n      <td>R</td>\n      <td>1387.0</td>\n    </tr>\n    <tr>\n      <th>4</th>\n      <td>1000</td>\n      <td>1000001</td>\n      <td>4620114.0</td>\n      <td>519791.0</td>\n      <td>2019-01-14T11:04:53</td>\n      <td>Gazole</td>\n      <td>R</td>\n      <td>1394.0</td>\n    </tr>\n  </tbody>\n</table>\n</div>"
          },
          "metadata": {}
        }
      ]
    },
    {
      "metadata": {
        "trusted": true
      },
      "cell_type": "code",
      "source": "prices.dtypes",
      "execution_count": 5,
      "outputs": [
        {
          "output_type": "execute_result",
          "execution_count": 5,
          "data": {
            "text/plain": "cp             int64\nid             int64\nlatitude     float64\nlongitude    float64\nmaj           object\nnom           object\npop           object\nvaleur       float64\ndtype: object"
          },
          "metadata": {}
        }
      ]
    },
    {
      "metadata": {},
      "cell_type": "markdown",
      "source": "We see that some fields that were read as strings for the XML file, are now typed as numbers (`id`, `latitude`, `longitude`, `cp`, `valeur`), although there is no provision for such metadata in the CSV format. This happens because Pandas, by default, will try to detect the actual type of the columns. \"*If all values from `id` look like numbers, then the column is a number*.\""
    },
    {
      "metadata": {},
      "cell_type": "markdown",
      "source": "## Extract information from the `maj` date\n\nThe type trick above doesn't work automagically with timestamps (`maj`). This is because timestamps can come in a wide variety of formats, and checking each of them on a big amount of values would take too much time. So we do our operations not on the column itself, but on the result of casting it to `datetime`. This way we can use the `.dt` accessor, which works like `.str` but provides date & time-related operations on the series."
    },
    {
      "metadata": {
        "trusted": true
      },
      "cell_type": "code",
      "source": "prices['date'] = pd.to_datetime(prices['''###CODE HERE###''']).dt.date\nprices['weekday'] = pd.to_datetime(prices['date']).dt.weekday_name",
      "execution_count": 6,
      "outputs": []
    },
    {
      "metadata": {},
      "cell_type": "markdown",
      "source": "We don't need `maj` any more, drop the column altogether. The `inplace` parameter tells Pandas to alter the data frame in memory, instead of making a copy, modifying and returning it. We save some space in memory, but if you mess up your code, you have no way of rolling back except by restarting the process from scratch: load from disk, etc."
    },
    {
      "metadata": {
        "trusted": true
      },
      "cell_type": "code",
      "source": "prices.drop('''###CODE HERE###''', axis=1, inplace=True)",
      "execution_count": 7,
      "outputs": []
    },
    {
      "metadata": {},
      "cell_type": "markdown",
      "source": "## Handling missing values\n\nSome data is missing, because it was not in the XML files (blank fields for example). Sometimes we can live with it, sometimes we'll want to remove any incomplete record. This is the route we'll take now.\n\nFirst, let's see how many missing values there are, per column.\n\nOur data frame is a collection of cells with values, one per (index, column) intersection. The `.isnull()` operator checks each cell and returns `True` if it is empty, `False` otherwise. The result is a data frame with the same index & column list as the original, but with boolean values inside."
    },
    {
      "metadata": {
        "trusted": true
      },
      "cell_type": "code",
      "source": "prices.isnull()",
      "execution_count": 8,
      "outputs": [
        {
          "output_type": "execute_result",
          "execution_count": 8,
          "data": {
            "text/plain": "            cp     id latitude longitude    nom    pop valeur   date weekday\n0        False  False    False     False  False  False  False  False   False\n1        False  False    False     False  False  False  False  False   False\n2        False  False    False     False  False  False  False  False   False\n3        False  False    False     False  False  False  False  False   False\n4        False  False    False     False  False  False  False  False   False\n5        False  False    False     False  False  False  False  False   False\n6        False  False    False     False  False  False  False  False   False\n7        False  False    False     False  False  False  False  False   False\n8        False  False    False     False  False  False  False  False   False\n9        False  False    False     False  False  False  False  False   False\n10       False  False    False     False  False  False  False  False   False\n11       False  False    False     False  False  False  False  False   False\n12       False  False    False     False  False  False  False  False   False\n13       False  False    False     False  False  False  False  False   False\n14       False  False    False     False  False  False  False  False   False\n15       False  False    False     False  False  False  False  False   False\n16       False  False    False     False  False  False  False  False   False\n17       False  False    False     False  False  False  False  False   False\n18       False  False    False     False  False  False  False  False   False\n19       False  False    False     False  False  False  False  False   False\n20       False  False    False     False  False  False  False  False   False\n21       False  False    False     False  False  False  False  False   False\n22       False  False    False     False  False  False  False  False   False\n23       False  False    False     False  False  False  False  False   False\n24       False  False    False     False  False  False  False  False   False\n25       False  False    False     False  False  False  False  False   False\n26       False  False    False     False  False  False  False  False   False\n27       False  False    False     False  False  False  False  False   False\n28       False  False    False     False  False  False  False  False   False\n29       False  False    False     False  False  False  False  False   False\n...        ...    ...      ...       ...    ...    ...    ...    ...     ...\n1019335  False  False    False     False  False  False  False  False   False\n1019336  False  False    False     False  False  False  False  False   False\n1019337  False  False    False     False  False  False  False  False   False\n1019338  False  False    False     False  False  False  False  False   False\n1019339  False  False    False     False  False  False  False  False   False\n1019340  False  False    False     False  False  False  False  False   False\n1019341  False  False    False     False  False  False  False  False   False\n1019342  False  False    False     False  False  False  False  False   False\n1019343  False  False    False     False  False  False  False  False   False\n1019344  False  False    False     False  False  False  False  False   False\n1019345  False  False    False     False  False  False  False  False   False\n1019346  False  False    False     False  False  False  False  False   False\n1019347  False  False    False     False  False  False  False  False   False\n1019348  False  False    False     False  False  False  False  False   False\n1019349  False  False    False     False  False  False  False  False   False\n1019350  False  False    False     False  False  False  False  False   False\n1019351  False  False    False     False  False  False  False  False   False\n1019352  False  False    False     False  False  False  False  False   False\n1019353  False  False    False     False  False  False  False  False   False\n1019354  False  False    False     False  False  False  False  False   False\n1019355  False  False    False     False  False  False  False  False   False\n1019356  False  False    False     False  False  False  False  False   False\n1019357  False  False    False     False  False  False  False  False   False\n1019358  False  False    False     False  False  False  False  False   False\n1019359  False  False    False     False  False  False  False  False   False\n1019360  False  False    False     False  False  False  False  False   False\n1019361  False  False    False     False  False  False  False  False   False\n1019362  False  False    False     False  False  False  False  False   False\n1019363  False  False    False     False  False  False  False  False   False\n1019364  False  False    False     False   True  False   True   True    True\n\n[1019365 rows x 9 columns]",
            "text/html": "<div>\n<table border=\"1\" class=\"dataframe\">\n  <thead>\n    <tr style=\"text-align: right;\">\n      <th></th>\n      <th>cp</th>\n      <th>id</th>\n      <th>latitude</th>\n      <th>longitude</th>\n      <th>nom</th>\n      <th>pop</th>\n      <th>valeur</th>\n      <th>date</th>\n      <th>weekday</th>\n    </tr>\n  </thead>\n  <tbody>\n    <tr>\n      <th>0</th>\n      <td>False</td>\n      <td>False</td>\n      <td>False</td>\n      <td>False</td>\n      <td>False</td>\n      <td>False</td>\n      <td>False</td>\n      <td>False</td>\n      <td>False</td>\n    </tr>\n    <tr>\n      <th>1</th>\n      <td>False</td>\n      <td>False</td>\n      <td>False</td>\n      <td>False</td>\n      <td>False</td>\n      <td>False</td>\n      <td>False</td>\n      <td>False</td>\n      <td>False</td>\n    </tr>\n    <tr>\n      <th>2</th>\n      <td>False</td>\n      <td>False</td>\n      <td>False</td>\n      <td>False</td>\n      <td>False</td>\n      <td>False</td>\n      <td>False</td>\n      <td>False</td>\n      <td>False</td>\n    </tr>\n    <tr>\n      <th>3</th>\n      <td>False</td>\n      <td>False</td>\n      <td>False</td>\n      <td>False</td>\n      <td>False</td>\n      <td>False</td>\n      <td>False</td>\n      <td>False</td>\n      <td>False</td>\n    </tr>\n    <tr>\n      <th>4</th>\n      <td>False</td>\n      <td>False</td>\n      <td>False</td>\n      <td>False</td>\n      <td>False</td>\n      <td>False</td>\n      <td>False</td>\n      <td>False</td>\n      <td>False</td>\n    </tr>\n    <tr>\n      <th>5</th>\n      <td>False</td>\n      <td>False</td>\n      <td>False</td>\n      <td>False</td>\n      <td>False</td>\n      <td>False</td>\n      <td>False</td>\n      <td>False</td>\n      <td>False</td>\n    </tr>\n    <tr>\n      <th>6</th>\n      <td>False</td>\n      <td>False</td>\n      <td>False</td>\n      <td>False</td>\n      <td>False</td>\n      <td>False</td>\n      <td>False</td>\n      <td>False</td>\n      <td>False</td>\n    </tr>\n    <tr>\n      <th>7</th>\n      <td>False</td>\n      <td>False</td>\n      <td>False</td>\n      <td>False</td>\n      <td>False</td>\n      <td>False</td>\n      <td>False</td>\n      <td>False</td>\n      <td>False</td>\n    </tr>\n    <tr>\n      <th>8</th>\n      <td>False</td>\n      <td>False</td>\n      <td>False</td>\n      <td>False</td>\n      <td>False</td>\n      <td>False</td>\n      <td>False</td>\n      <td>False</td>\n      <td>False</td>\n    </tr>\n    <tr>\n      <th>9</th>\n      <td>False</td>\n      <td>False</td>\n      <td>False</td>\n      <td>False</td>\n      <td>False</td>\n      <td>False</td>\n      <td>False</td>\n      <td>False</td>\n      <td>False</td>\n    </tr>\n    <tr>\n      <th>10</th>\n      <td>False</td>\n      <td>False</td>\n      <td>False</td>\n      <td>False</td>\n      <td>False</td>\n      <td>False</td>\n      <td>False</td>\n      <td>False</td>\n      <td>False</td>\n    </tr>\n    <tr>\n      <th>11</th>\n      <td>False</td>\n      <td>False</td>\n      <td>False</td>\n      <td>False</td>\n      <td>False</td>\n      <td>False</td>\n      <td>False</td>\n      <td>False</td>\n      <td>False</td>\n    </tr>\n    <tr>\n      <th>12</th>\n      <td>False</td>\n      <td>False</td>\n      <td>False</td>\n      <td>False</td>\n      <td>False</td>\n      <td>False</td>\n      <td>False</td>\n      <td>False</td>\n      <td>False</td>\n    </tr>\n    <tr>\n      <th>13</th>\n      <td>False</td>\n      <td>False</td>\n      <td>False</td>\n      <td>False</td>\n      <td>False</td>\n      <td>False</td>\n      <td>False</td>\n      <td>False</td>\n      <td>False</td>\n    </tr>\n    <tr>\n      <th>14</th>\n      <td>False</td>\n      <td>False</td>\n      <td>False</td>\n      <td>False</td>\n      <td>False</td>\n      <td>False</td>\n      <td>False</td>\n      <td>False</td>\n      <td>False</td>\n    </tr>\n    <tr>\n      <th>15</th>\n      <td>False</td>\n      <td>False</td>\n      <td>False</td>\n      <td>False</td>\n      <td>False</td>\n      <td>False</td>\n      <td>False</td>\n      <td>False</td>\n      <td>False</td>\n    </tr>\n    <tr>\n      <th>16</th>\n      <td>False</td>\n      <td>False</td>\n      <td>False</td>\n      <td>False</td>\n      <td>False</td>\n      <td>False</td>\n      <td>False</td>\n      <td>False</td>\n      <td>False</td>\n    </tr>\n    <tr>\n      <th>17</th>\n      <td>False</td>\n      <td>False</td>\n      <td>False</td>\n      <td>False</td>\n      <td>False</td>\n      <td>False</td>\n      <td>False</td>\n      <td>False</td>\n      <td>False</td>\n    </tr>\n    <tr>\n      <th>18</th>\n      <td>False</td>\n      <td>False</td>\n      <td>False</td>\n      <td>False</td>\n      <td>False</td>\n      <td>False</td>\n      <td>False</td>\n      <td>False</td>\n      <td>False</td>\n    </tr>\n    <tr>\n      <th>19</th>\n      <td>False</td>\n      <td>False</td>\n      <td>False</td>\n      <td>False</td>\n      <td>False</td>\n      <td>False</td>\n      <td>False</td>\n      <td>False</td>\n      <td>False</td>\n    </tr>\n    <tr>\n      <th>20</th>\n      <td>False</td>\n      <td>False</td>\n      <td>False</td>\n      <td>False</td>\n      <td>False</td>\n      <td>False</td>\n      <td>False</td>\n      <td>False</td>\n      <td>False</td>\n    </tr>\n    <tr>\n      <th>21</th>\n      <td>False</td>\n      <td>False</td>\n      <td>False</td>\n      <td>False</td>\n      <td>False</td>\n      <td>False</td>\n      <td>False</td>\n      <td>False</td>\n      <td>False</td>\n    </tr>\n    <tr>\n      <th>22</th>\n      <td>False</td>\n      <td>False</td>\n      <td>False</td>\n      <td>False</td>\n      <td>False</td>\n      <td>False</td>\n      <td>False</td>\n      <td>False</td>\n      <td>False</td>\n    </tr>\n    <tr>\n      <th>23</th>\n      <td>False</td>\n      <td>False</td>\n      <td>False</td>\n      <td>False</td>\n      <td>False</td>\n      <td>False</td>\n      <td>False</td>\n      <td>False</td>\n      <td>False</td>\n    </tr>\n    <tr>\n      <th>24</th>\n      <td>False</td>\n      <td>False</td>\n      <td>False</td>\n      <td>False</td>\n      <td>False</td>\n      <td>False</td>\n      <td>False</td>\n      <td>False</td>\n      <td>False</td>\n    </tr>\n    <tr>\n      <th>25</th>\n      <td>False</td>\n      <td>False</td>\n      <td>False</td>\n      <td>False</td>\n      <td>False</td>\n      <td>False</td>\n      <td>False</td>\n      <td>False</td>\n      <td>False</td>\n    </tr>\n    <tr>\n      <th>26</th>\n      <td>False</td>\n      <td>False</td>\n      <td>False</td>\n      <td>False</td>\n      <td>False</td>\n      <td>False</td>\n      <td>False</td>\n      <td>False</td>\n      <td>False</td>\n    </tr>\n    <tr>\n      <th>27</th>\n      <td>False</td>\n      <td>False</td>\n      <td>False</td>\n      <td>False</td>\n      <td>False</td>\n      <td>False</td>\n      <td>False</td>\n      <td>False</td>\n      <td>False</td>\n    </tr>\n    <tr>\n      <th>28</th>\n      <td>False</td>\n      <td>False</td>\n      <td>False</td>\n      <td>False</td>\n      <td>False</td>\n      <td>False</td>\n      <td>False</td>\n      <td>False</td>\n      <td>False</td>\n    </tr>\n    <tr>\n      <th>29</th>\n      <td>False</td>\n      <td>False</td>\n      <td>False</td>\n      <td>False</td>\n      <td>False</td>\n      <td>False</td>\n      <td>False</td>\n      <td>False</td>\n      <td>False</td>\n    </tr>\n    <tr>\n      <th>...</th>\n      <td>...</td>\n      <td>...</td>\n      <td>...</td>\n      <td>...</td>\n      <td>...</td>\n      <td>...</td>\n      <td>...</td>\n      <td>...</td>\n      <td>...</td>\n    </tr>\n    <tr>\n      <th>1019335</th>\n      <td>False</td>\n      <td>False</td>\n      <td>False</td>\n      <td>False</td>\n      <td>False</td>\n      <td>False</td>\n      <td>False</td>\n      <td>False</td>\n      <td>False</td>\n    </tr>\n    <tr>\n      <th>1019336</th>\n      <td>False</td>\n      <td>False</td>\n      <td>False</td>\n      <td>False</td>\n      <td>False</td>\n      <td>False</td>\n      <td>False</td>\n      <td>False</td>\n      <td>False</td>\n    </tr>\n    <tr>\n      <th>1019337</th>\n      <td>False</td>\n      <td>False</td>\n      <td>False</td>\n      <td>False</td>\n      <td>False</td>\n      <td>False</td>\n      <td>False</td>\n      <td>False</td>\n      <td>False</td>\n    </tr>\n    <tr>\n      <th>1019338</th>\n      <td>False</td>\n      <td>False</td>\n      <td>False</td>\n      <td>False</td>\n      <td>False</td>\n      <td>False</td>\n      <td>False</td>\n      <td>False</td>\n      <td>False</td>\n    </tr>\n    <tr>\n      <th>1019339</th>\n      <td>False</td>\n      <td>False</td>\n      <td>False</td>\n      <td>False</td>\n      <td>False</td>\n      <td>False</td>\n      <td>False</td>\n      <td>False</td>\n      <td>False</td>\n    </tr>\n    <tr>\n      <th>1019340</th>\n      <td>False</td>\n      <td>False</td>\n      <td>False</td>\n      <td>False</td>\n      <td>False</td>\n      <td>False</td>\n      <td>False</td>\n      <td>False</td>\n      <td>False</td>\n    </tr>\n    <tr>\n      <th>1019341</th>\n      <td>False</td>\n      <td>False</td>\n      <td>False</td>\n      <td>False</td>\n      <td>False</td>\n      <td>False</td>\n      <td>False</td>\n      <td>False</td>\n      <td>False</td>\n    </tr>\n    <tr>\n      <th>1019342</th>\n      <td>False</td>\n      <td>False</td>\n      <td>False</td>\n      <td>False</td>\n      <td>False</td>\n      <td>False</td>\n      <td>False</td>\n      <td>False</td>\n      <td>False</td>\n    </tr>\n    <tr>\n      <th>1019343</th>\n      <td>False</td>\n      <td>False</td>\n      <td>False</td>\n      <td>False</td>\n      <td>False</td>\n      <td>False</td>\n      <td>False</td>\n      <td>False</td>\n      <td>False</td>\n    </tr>\n    <tr>\n      <th>1019344</th>\n      <td>False</td>\n      <td>False</td>\n      <td>False</td>\n      <td>False</td>\n      <td>False</td>\n      <td>False</td>\n      <td>False</td>\n      <td>False</td>\n      <td>False</td>\n    </tr>\n    <tr>\n      <th>1019345</th>\n      <td>False</td>\n      <td>False</td>\n      <td>False</td>\n      <td>False</td>\n      <td>False</td>\n      <td>False</td>\n      <td>False</td>\n      <td>False</td>\n      <td>False</td>\n    </tr>\n    <tr>\n      <th>1019346</th>\n      <td>False</td>\n      <td>False</td>\n      <td>False</td>\n      <td>False</td>\n      <td>False</td>\n      <td>False</td>\n      <td>False</td>\n      <td>False</td>\n      <td>False</td>\n    </tr>\n    <tr>\n      <th>1019347</th>\n      <td>False</td>\n      <td>False</td>\n      <td>False</td>\n      <td>False</td>\n      <td>False</td>\n      <td>False</td>\n      <td>False</td>\n      <td>False</td>\n      <td>False</td>\n    </tr>\n    <tr>\n      <th>1019348</th>\n      <td>False</td>\n      <td>False</td>\n      <td>False</td>\n      <td>False</td>\n      <td>False</td>\n      <td>False</td>\n      <td>False</td>\n      <td>False</td>\n      <td>False</td>\n    </tr>\n    <tr>\n      <th>1019349</th>\n      <td>False</td>\n      <td>False</td>\n      <td>False</td>\n      <td>False</td>\n      <td>False</td>\n      <td>False</td>\n      <td>False</td>\n      <td>False</td>\n      <td>False</td>\n    </tr>\n    <tr>\n      <th>1019350</th>\n      <td>False</td>\n      <td>False</td>\n      <td>False</td>\n      <td>False</td>\n      <td>False</td>\n      <td>False</td>\n      <td>False</td>\n      <td>False</td>\n      <td>False</td>\n    </tr>\n    <tr>\n      <th>1019351</th>\n      <td>False</td>\n      <td>False</td>\n      <td>False</td>\n      <td>False</td>\n      <td>False</td>\n      <td>False</td>\n      <td>False</td>\n      <td>False</td>\n      <td>False</td>\n    </tr>\n    <tr>\n      <th>1019352</th>\n      <td>False</td>\n      <td>False</td>\n      <td>False</td>\n      <td>False</td>\n      <td>False</td>\n      <td>False</td>\n      <td>False</td>\n      <td>False</td>\n      <td>False</td>\n    </tr>\n    <tr>\n      <th>1019353</th>\n      <td>False</td>\n      <td>False</td>\n      <td>False</td>\n      <td>False</td>\n      <td>False</td>\n      <td>False</td>\n      <td>False</td>\n      <td>False</td>\n      <td>False</td>\n    </tr>\n    <tr>\n      <th>1019354</th>\n      <td>False</td>\n      <td>False</td>\n      <td>False</td>\n      <td>False</td>\n      <td>False</td>\n      <td>False</td>\n      <td>False</td>\n      <td>False</td>\n      <td>False</td>\n    </tr>\n    <tr>\n      <th>1019355</th>\n      <td>False</td>\n      <td>False</td>\n      <td>False</td>\n      <td>False</td>\n      <td>False</td>\n      <td>False</td>\n      <td>False</td>\n      <td>False</td>\n      <td>False</td>\n    </tr>\n    <tr>\n      <th>1019356</th>\n      <td>False</td>\n      <td>False</td>\n      <td>False</td>\n      <td>False</td>\n      <td>False</td>\n      <td>False</td>\n      <td>False</td>\n      <td>False</td>\n      <td>False</td>\n    </tr>\n    <tr>\n      <th>1019357</th>\n      <td>False</td>\n      <td>False</td>\n      <td>False</td>\n      <td>False</td>\n      <td>False</td>\n      <td>False</td>\n      <td>False</td>\n      <td>False</td>\n      <td>False</td>\n    </tr>\n    <tr>\n      <th>1019358</th>\n      <td>False</td>\n      <td>False</td>\n      <td>False</td>\n      <td>False</td>\n      <td>False</td>\n      <td>False</td>\n      <td>False</td>\n      <td>False</td>\n      <td>False</td>\n    </tr>\n    <tr>\n      <th>1019359</th>\n      <td>False</td>\n      <td>False</td>\n      <td>False</td>\n      <td>False</td>\n      <td>False</td>\n      <td>False</td>\n      <td>False</td>\n      <td>False</td>\n      <td>False</td>\n    </tr>\n    <tr>\n      <th>1019360</th>\n      <td>False</td>\n      <td>False</td>\n      <td>False</td>\n      <td>False</td>\n      <td>False</td>\n      <td>False</td>\n      <td>False</td>\n      <td>False</td>\n      <td>False</td>\n    </tr>\n    <tr>\n      <th>1019361</th>\n      <td>False</td>\n      <td>False</td>\n      <td>False</td>\n      <td>False</td>\n      <td>False</td>\n      <td>False</td>\n      <td>False</td>\n      <td>False</td>\n      <td>False</td>\n    </tr>\n    <tr>\n      <th>1019362</th>\n      <td>False</td>\n      <td>False</td>\n      <td>False</td>\n      <td>False</td>\n      <td>False</td>\n      <td>False</td>\n      <td>False</td>\n      <td>False</td>\n      <td>False</td>\n    </tr>\n    <tr>\n      <th>1019363</th>\n      <td>False</td>\n      <td>False</td>\n      <td>False</td>\n      <td>False</td>\n      <td>False</td>\n      <td>False</td>\n      <td>False</td>\n      <td>False</td>\n      <td>False</td>\n    </tr>\n    <tr>\n      <th>1019364</th>\n      <td>False</td>\n      <td>False</td>\n      <td>False</td>\n      <td>False</td>\n      <td>True</td>\n      <td>False</td>\n      <td>True</td>\n      <td>True</td>\n      <td>True</td>\n    </tr>\n  </tbody>\n</table>\n<p>1019365 rows × 9 columns</p>\n</div>"
          },
          "metadata": {}
        }
      ]
    },
    {
      "metadata": {},
      "cell_type": "markdown",
      "source": "In order to count the missing values, we can sum the boolean data frame above, column-wise. When it comes to turning booleans into numbers, `True` is equivalent to 1 and `False` to 0, so that will work. The \"column-wise\" part comes from the `axis=0` parameter we give to `.sum()`. By giving `axis=1` we would have summed row-wise (try it!). Actually, thre parameter could be omitted because 0 is the default axis. But it's a good idea to specify it anyway, for legibility reasons."
    },
    {
      "metadata": {
        "trusted": true
      },
      "cell_type": "code",
      "source": "prices.isnull().sum(axis=0)",
      "execution_count": 9,
      "outputs": [
        {
          "output_type": "execute_result",
          "execution_count": 9,
          "data": {
            "text/plain": "cp              0\nid              0\nlatitude       69\nlongitude      68\nnom          3172\npop             0\nvaleur       3172\ndate         3172\nweekday      3172\ndtype: int64"
          },
          "metadata": {}
        }
      ]
    },
    {
      "metadata": {},
      "cell_type": "markdown",
      "source": "There we have it. Let's compare with the size of the data frame. For a data frame, the first element of `.shape` is the number of rows (size of the index), the second one the number of columns.\n\nNB: since we're only interested in the number of rows, we could use `len(prices)` as well"
    },
    {
      "metadata": {
        "trusted": true
      },
      "cell_type": "code",
      "source": "prices.shape",
      "execution_count": 10,
      "outputs": [
        {
          "output_type": "execute_result",
          "execution_count": 10,
          "data": {
            "text/plain": "(1019365, 9)"
          },
          "metadata": {}
        }
      ]
    },
    {
      "metadata": {
        "trusted": true
      },
      "cell_type": "code",
      "source": "# If we want the *percentage* of missing values:\n100. * prices.isnull().sum(axis=0) / '''###CODE HERE###'''",
      "execution_count": 11,
      "outputs": [
        {
          "output_type": "execute_result",
          "execution_count": 11,
          "data": {
            "text/plain": "cp           0.000000\nid           0.000000\nlatitude     0.006769\nlongitude    0.006671\nnom          0.311174\npop          0.000000\nvaleur       0.311174\ndate         0.311174\nweekday      0.311174\ndtype: float64"
          },
          "metadata": {}
        }
      ]
    },
    {
      "metadata": {},
      "cell_type": "markdown",
      "source": "Now that we know we're not going to lose too much information, let's remove the rows with missing values. Again, note the use of `inplace=True` and the need to be 200% sure we do it right, there's no turning back!"
    },
    {
      "metadata": {
        "trusted": true
      },
      "cell_type": "code",
      "source": "prices.dropna(inplace=True)",
      "execution_count": 12,
      "outputs": []
    },
    {
      "metadata": {
        "trusted": true
      },
      "cell_type": "code",
      "source": "# Check the new shape\nprices.shape",
      "execution_count": 13,
      "outputs": [
        {
          "output_type": "execute_result",
          "execution_count": 13,
          "data": {
            "text/plain": "(1016193, 9)"
          },
          "metadata": {}
        }
      ]
    },
    {
      "metadata": {},
      "cell_type": "markdown",
      "source": "## Rescaling numbers\n\nSome fields were given in an usual scale, which could prevent us from interpreting them correctly later on. Let's rescale them."
    },
    {
      "metadata": {
        "trusted": true
      },
      "cell_type": "code",
      "source": "# This is another example of in-place modification: the original values are lost\nprices['latitude'] /= 100000\nprices['longitude'] /= 100000\nprices['valeur'] /= 1000",
      "execution_count": 15,
      "outputs": []
    },
    {
      "metadata": {},
      "cell_type": "markdown",
      "source": "## Data quality considerations\n\nThe documentation of the XML file states that `pop` can be either `'A'` or `'R'`. Is it true?\n\nThe `.value_counts()` operation on a series is very useful: it gives us the list of values encountered, along with their number of occurrences. It's a easy way to spot anomalies in the distribution or in the values themselves."
    },
    {
      "metadata": {
        "trusted": true
      },
      "cell_type": "code",
      "source": "prices['pop'].value_counts()",
      "execution_count": 16,
      "outputs": [
        {
          "output_type": "execute_result",
          "execution_count": 16,
          "data": {
            "text/plain": "R    936300\nA     79870\nN        23\nName: pop, dtype: int64"
          },
          "metadata": {}
        }
      ]
    },
    {
      "metadata": {},
      "cell_type": "markdown",
      "source": "We won't be able to make anything out of the `'N'` values, we can't interpret them. So we drop them, there are not many anyway.\n\nFor this, we are going to use the `[...]` data frame operator. When fed with a boolean series, it *selects* only those records for which the boolean value is true.\n\nNB: if you're interested, under the cover the boolean series and the data frame are matched thanks to the index (you don't want to filter records randomly). If the boolean series is derived from the data frame itself, then it inherits its index and the matching is straightforward."
    },
    {
      "metadata": {
        "trusted": true
      },
      "cell_type": "code",
      "source": "# Here again, we overwrite the `price` variable with the result of a selection. Use with caution\nprices = prices[prices['pop'] != '''###CODE HERE###''']",
      "execution_count": 17,
      "outputs": []
    },
    {
      "metadata": {
        "trusted": true
      },
      "cell_type": "code",
      "source": "prices.shape",
      "execution_count": 18,
      "outputs": [
        {
          "output_type": "execute_result",
          "execution_count": 18,
          "data": {
            "text/plain": "(1016170, 9)"
          },
          "metadata": {}
        }
      ]
    },
    {
      "metadata": {},
      "cell_type": "markdown",
      "source": "Now change the nomenclature of the `pop` values, to make things clearer. There are lots of way to do this, here is one."
    },
    {
      "metadata": {
        "trusted": true
      },
      "cell_type": "code",
      "source": "prices['pop'] = prices['pop'].replace({'A': 'Highway', 'R': 'Road'})",
      "execution_count": 19,
      "outputs": []
    },
    {
      "metadata": {},
      "cell_type": "markdown",
      "source": "## Zip codes & departments\n\nIf we use PowerBI to visualize the data on maps, the zip code is not appropriate. PowerBI will not interpret it correctly. Instead, we must use the convention `FR,<department number>`. We'll assume that the department number is the zip code divided by 1,000.\n\nWe decide to keep the zip code along with the new field, because we may need to display it on tabular reports."
    },
    {
      "metadata": {
        "trusted": true
      },
      "cell_type": "code",
      "source": "prices['department_pointer'] = 'FR,' + (('''###CODE HERE###''').astype(int)).astype(str)",
      "execution_count": 22,
      "outputs": []
    },
    {
      "metadata": {},
      "cell_type": "markdown",
      "source": "## Check for duplicates\n\nRemembering we have removed the time portion of the dates, we might wonder if there are duplicates introduced by the loss of precision. The good approach to check this is to do a **group by**. The `.groupby()` method takes a column name (or a list thereof) and offers operations that we can perform on the groups thus formed."
    },
    {
      "metadata": {
        "trusted": true
      },
      "cell_type": "code",
      "source": "# Create the group by object first\ngrouped_by_station_date_and_type = prices.groupby(['''###CODE HERE###'''])",
      "execution_count": 23,
      "outputs": []
    },
    {
      "metadata": {
        "trusted": true
      },
      "cell_type": "code",
      "source": "# Count the records in each group, and display the entries for which the count is > 1\ncounts_by_station_date_and_type = grouped_by_station_date_and_type.size()\ncounts_by_station_date_and_type[counts_by_station_date_and_type > 1].sort_values(ascending=False)",
      "execution_count": 24,
      "outputs": [
        {
          "output_type": "execute_result",
          "execution_count": 24,
          "data": {
            "text/plain": "id        date        nom   \n6211001   2019-01-04  GPLc      38\n                      Gazole    38\n                      SP98      38\n                      E10       38\n21120001  2019-02-19  Gazole    31\n                      SP98      30\n                      SP95      30\n33210001  2019-01-07  E10       26\n                      Gazole    26\n                      SP98      26\n67033001  2019-01-02  Gazole    21\n                      E10       21\n                      GPLc      21\n                      SP98      21\n83500001  2019-01-09  Gazole    19\n                      SP98      19\n                      E10       19\n          2019-01-11  SP98      17\n                      Gazole    17\n                      E10       17\n31150001  2019-01-04  SP95      14\n                      Gazole    14\n                      E10       14\n                      E85       14\n                      GPLc      14\n83500001  2019-01-07  E10       12\n                      SP98      12\n31150001  2019-01-16  E85       10\n                      GPLc      10\n25410004  2019-01-09  SP98      10\n                                ..\n62130002  2019-03-14  Gazole     2\n                      E10        2\n          2019-03-04  SP98       2\n                      Gazole     2\n62131001  2019-02-14  E10        2\n          2019-03-08  Gazole     2\n          2019-03-23  E10        2\n                      Gazole     2\n62142001  2019-02-21  Gazole     2\n          2019-02-08  Gazole     2\n62140001  2019-03-14  SP98       2\n                      Gazole     2\n                      E10        2\n          2019-03-08  SP98       2\n                      Gazole     2\n                      E10        2\n          2019-02-26  SP98       2\n                      Gazole     2\n          2019-02-05  SP98       2\n                      Gazole     2\n                      E10        2\n          2019-01-15  SP98       2\n                      Gazole     2\n                      E10        2\n62138002  2019-01-25  SP98       2\n          2019-01-24  SP98       2\n                      SP95       2\n                      Gazole     2\n62131001  2019-03-23  SP98       2\n57000009  2019-03-29  SP98       2\ndtype: int64"
          },
          "metadata": {}
        }
      ]
    },
    {
      "metadata": {},
      "cell_type": "markdown",
      "source": "So there is a fairly high number of duplicates! The result is conveniently indexed by our group by list."
    },
    {
      "metadata": {
        "trusted": true
      },
      "cell_type": "code",
      "source": "# For example the biggest group:\n# Note that our search criterion is the combination (`&`) of 2 conditions\nimport datetime\n\nprices[\n    (prices['id'] == 6211001) &\n    (prices['date'] == datetime.date(2019, 1, 4)) &\n    (prices['nom'] == 'E10')\n]",
      "execution_count": 33,
      "outputs": [
        {
          "output_type": "execute_result",
          "execution_count": 33,
          "data": {
            "text/plain": "         cp       id   latitude  longitude  nom   pop  valeur        date  \\\n38362  6210  6211001  43.533633   6.933755  E10  Road   1.329  2019-01-04   \n38363  6210  6211001  43.533633   6.933755  E10  Road   1.329  2019-01-04   \n38364  6210  6211001  43.533633   6.933755  E10  Road   1.329  2019-01-04   \n38365  6210  6211001  43.533633   6.933755  E10  Road   1.329  2019-01-04   \n38366  6210  6211001  43.533633   6.933755  E10  Road   1.329  2019-01-04   \n38367  6210  6211001  43.533633   6.933755  E10  Road   1.329  2019-01-04   \n38368  6210  6211001  43.533633   6.933755  E10  Road   1.329  2019-01-04   \n38369  6210  6211001  43.533633   6.933755  E10  Road   1.329  2019-01-04   \n38370  6210  6211001  43.533633   6.933755  E10  Road   1.329  2019-01-04   \n38371  6210  6211001  43.533633   6.933755  E10  Road   1.329  2019-01-04   \n38372  6210  6211001  43.533633   6.933755  E10  Road   1.329  2019-01-04   \n38373  6210  6211001  43.533633   6.933755  E10  Road   1.329  2019-01-04   \n38374  6210  6211001  43.533633   6.933755  E10  Road   1.329  2019-01-04   \n38375  6210  6211001  43.533633   6.933755  E10  Road   1.329  2019-01-04   \n38376  6210  6211001  43.533633   6.933755  E10  Road   1.329  2019-01-04   \n38377  6210  6211001  43.533633   6.933755  E10  Road   1.329  2019-01-04   \n38378  6210  6211001  43.533633   6.933755  E10  Road   1.329  2019-01-04   \n38379  6210  6211001  43.533633   6.933755  E10  Road   1.329  2019-01-04   \n38380  6210  6211001  43.533633   6.933755  E10  Road   1.329  2019-01-04   \n38381  6210  6211001  43.533633   6.933755  E10  Road   1.329  2019-01-04   \n38382  6210  6211001  43.533633   6.933755  E10  Road   1.329  2019-01-04   \n38383  6210  6211001  43.533633   6.933755  E10  Road   1.329  2019-01-04   \n38384  6210  6211001  43.533633   6.933755  E10  Road   1.329  2019-01-04   \n38385  6210  6211001  43.533633   6.933755  E10  Road   1.329  2019-01-04   \n38386  6210  6211001  43.533633   6.933755  E10  Road   1.329  2019-01-04   \n38387  6210  6211001  43.533633   6.933755  E10  Road   1.329  2019-01-04   \n38388  6210  6211001  43.533633   6.933755  E10  Road   1.329  2019-01-04   \n38389  6210  6211001  43.533633   6.933755  E10  Road   1.329  2019-01-04   \n38390  6210  6211001  43.533633   6.933755  E10  Road   1.329  2019-01-04   \n38391  6210  6211001  43.533633   6.933755  E10  Road   1.329  2019-01-04   \n38392  6210  6211001  43.533633   6.933755  E10  Road   1.329  2019-01-04   \n38393  6210  6211001  43.533633   6.933755  E10  Road   1.329  2019-01-04   \n38394  6210  6211001  43.533633   6.933755  E10  Road   1.329  2019-01-04   \n38395  6210  6211001  43.533633   6.933755  E10  Road   1.329  2019-01-04   \n38396  6210  6211001  43.533633   6.933755  E10  Road   1.329  2019-01-04   \n38397  6210  6211001  43.533633   6.933755  E10  Road   1.329  2019-01-04   \n38398  6210  6211001  43.533633   6.933755  E10  Road   1.329  2019-01-04   \n38399  6210  6211001  43.533633   6.933755  E10  Road   1.329  2019-01-04   \n\n      weekday department_pointer  \n38362  Friday               FR,6  \n38363  Friday               FR,6  \n38364  Friday               FR,6  \n38365  Friday               FR,6  \n38366  Friday               FR,6  \n38367  Friday               FR,6  \n38368  Friday               FR,6  \n38369  Friday               FR,6  \n38370  Friday               FR,6  \n38371  Friday               FR,6  \n38372  Friday               FR,6  \n38373  Friday               FR,6  \n38374  Friday               FR,6  \n38375  Friday               FR,6  \n38376  Friday               FR,6  \n38377  Friday               FR,6  \n38378  Friday               FR,6  \n38379  Friday               FR,6  \n38380  Friday               FR,6  \n38381  Friday               FR,6  \n38382  Friday               FR,6  \n38383  Friday               FR,6  \n38384  Friday               FR,6  \n38385  Friday               FR,6  \n38386  Friday               FR,6  \n38387  Friday               FR,6  \n38388  Friday               FR,6  \n38389  Friday               FR,6  \n38390  Friday               FR,6  \n38391  Friday               FR,6  \n38392  Friday               FR,6  \n38393  Friday               FR,6  \n38394  Friday               FR,6  \n38395  Friday               FR,6  \n38396  Friday               FR,6  \n38397  Friday               FR,6  \n38398  Friday               FR,6  \n38399  Friday               FR,6  ",
            "text/html": "<div>\n<table border=\"1\" class=\"dataframe\">\n  <thead>\n    <tr style=\"text-align: right;\">\n      <th></th>\n      <th>cp</th>\n      <th>id</th>\n      <th>latitude</th>\n      <th>longitude</th>\n      <th>nom</th>\n      <th>pop</th>\n      <th>valeur</th>\n      <th>date</th>\n      <th>weekday</th>\n      <th>department_pointer</th>\n    </tr>\n  </thead>\n  <tbody>\n    <tr>\n      <th>38362</th>\n      <td>6210</td>\n      <td>6211001</td>\n      <td>43.533633</td>\n      <td>6.933755</td>\n      <td>E10</td>\n      <td>Road</td>\n      <td>1.329</td>\n      <td>2019-01-04</td>\n      <td>Friday</td>\n      <td>FR,6</td>\n    </tr>\n    <tr>\n      <th>38363</th>\n      <td>6210</td>\n      <td>6211001</td>\n      <td>43.533633</td>\n      <td>6.933755</td>\n      <td>E10</td>\n      <td>Road</td>\n      <td>1.329</td>\n      <td>2019-01-04</td>\n      <td>Friday</td>\n      <td>FR,6</td>\n    </tr>\n    <tr>\n      <th>38364</th>\n      <td>6210</td>\n      <td>6211001</td>\n      <td>43.533633</td>\n      <td>6.933755</td>\n      <td>E10</td>\n      <td>Road</td>\n      <td>1.329</td>\n      <td>2019-01-04</td>\n      <td>Friday</td>\n      <td>FR,6</td>\n    </tr>\n    <tr>\n      <th>38365</th>\n      <td>6210</td>\n      <td>6211001</td>\n      <td>43.533633</td>\n      <td>6.933755</td>\n      <td>E10</td>\n      <td>Road</td>\n      <td>1.329</td>\n      <td>2019-01-04</td>\n      <td>Friday</td>\n      <td>FR,6</td>\n    </tr>\n    <tr>\n      <th>38366</th>\n      <td>6210</td>\n      <td>6211001</td>\n      <td>43.533633</td>\n      <td>6.933755</td>\n      <td>E10</td>\n      <td>Road</td>\n      <td>1.329</td>\n      <td>2019-01-04</td>\n      <td>Friday</td>\n      <td>FR,6</td>\n    </tr>\n    <tr>\n      <th>38367</th>\n      <td>6210</td>\n      <td>6211001</td>\n      <td>43.533633</td>\n      <td>6.933755</td>\n      <td>E10</td>\n      <td>Road</td>\n      <td>1.329</td>\n      <td>2019-01-04</td>\n      <td>Friday</td>\n      <td>FR,6</td>\n    </tr>\n    <tr>\n      <th>38368</th>\n      <td>6210</td>\n      <td>6211001</td>\n      <td>43.533633</td>\n      <td>6.933755</td>\n      <td>E10</td>\n      <td>Road</td>\n      <td>1.329</td>\n      <td>2019-01-04</td>\n      <td>Friday</td>\n      <td>FR,6</td>\n    </tr>\n    <tr>\n      <th>38369</th>\n      <td>6210</td>\n      <td>6211001</td>\n      <td>43.533633</td>\n      <td>6.933755</td>\n      <td>E10</td>\n      <td>Road</td>\n      <td>1.329</td>\n      <td>2019-01-04</td>\n      <td>Friday</td>\n      <td>FR,6</td>\n    </tr>\n    <tr>\n      <th>38370</th>\n      <td>6210</td>\n      <td>6211001</td>\n      <td>43.533633</td>\n      <td>6.933755</td>\n      <td>E10</td>\n      <td>Road</td>\n      <td>1.329</td>\n      <td>2019-01-04</td>\n      <td>Friday</td>\n      <td>FR,6</td>\n    </tr>\n    <tr>\n      <th>38371</th>\n      <td>6210</td>\n      <td>6211001</td>\n      <td>43.533633</td>\n      <td>6.933755</td>\n      <td>E10</td>\n      <td>Road</td>\n      <td>1.329</td>\n      <td>2019-01-04</td>\n      <td>Friday</td>\n      <td>FR,6</td>\n    </tr>\n    <tr>\n      <th>38372</th>\n      <td>6210</td>\n      <td>6211001</td>\n      <td>43.533633</td>\n      <td>6.933755</td>\n      <td>E10</td>\n      <td>Road</td>\n      <td>1.329</td>\n      <td>2019-01-04</td>\n      <td>Friday</td>\n      <td>FR,6</td>\n    </tr>\n    <tr>\n      <th>38373</th>\n      <td>6210</td>\n      <td>6211001</td>\n      <td>43.533633</td>\n      <td>6.933755</td>\n      <td>E10</td>\n      <td>Road</td>\n      <td>1.329</td>\n      <td>2019-01-04</td>\n      <td>Friday</td>\n      <td>FR,6</td>\n    </tr>\n    <tr>\n      <th>38374</th>\n      <td>6210</td>\n      <td>6211001</td>\n      <td>43.533633</td>\n      <td>6.933755</td>\n      <td>E10</td>\n      <td>Road</td>\n      <td>1.329</td>\n      <td>2019-01-04</td>\n      <td>Friday</td>\n      <td>FR,6</td>\n    </tr>\n    <tr>\n      <th>38375</th>\n      <td>6210</td>\n      <td>6211001</td>\n      <td>43.533633</td>\n      <td>6.933755</td>\n      <td>E10</td>\n      <td>Road</td>\n      <td>1.329</td>\n      <td>2019-01-04</td>\n      <td>Friday</td>\n      <td>FR,6</td>\n    </tr>\n    <tr>\n      <th>38376</th>\n      <td>6210</td>\n      <td>6211001</td>\n      <td>43.533633</td>\n      <td>6.933755</td>\n      <td>E10</td>\n      <td>Road</td>\n      <td>1.329</td>\n      <td>2019-01-04</td>\n      <td>Friday</td>\n      <td>FR,6</td>\n    </tr>\n    <tr>\n      <th>38377</th>\n      <td>6210</td>\n      <td>6211001</td>\n      <td>43.533633</td>\n      <td>6.933755</td>\n      <td>E10</td>\n      <td>Road</td>\n      <td>1.329</td>\n      <td>2019-01-04</td>\n      <td>Friday</td>\n      <td>FR,6</td>\n    </tr>\n    <tr>\n      <th>38378</th>\n      <td>6210</td>\n      <td>6211001</td>\n      <td>43.533633</td>\n      <td>6.933755</td>\n      <td>E10</td>\n      <td>Road</td>\n      <td>1.329</td>\n      <td>2019-01-04</td>\n      <td>Friday</td>\n      <td>FR,6</td>\n    </tr>\n    <tr>\n      <th>38379</th>\n      <td>6210</td>\n      <td>6211001</td>\n      <td>43.533633</td>\n      <td>6.933755</td>\n      <td>E10</td>\n      <td>Road</td>\n      <td>1.329</td>\n      <td>2019-01-04</td>\n      <td>Friday</td>\n      <td>FR,6</td>\n    </tr>\n    <tr>\n      <th>38380</th>\n      <td>6210</td>\n      <td>6211001</td>\n      <td>43.533633</td>\n      <td>6.933755</td>\n      <td>E10</td>\n      <td>Road</td>\n      <td>1.329</td>\n      <td>2019-01-04</td>\n      <td>Friday</td>\n      <td>FR,6</td>\n    </tr>\n    <tr>\n      <th>38381</th>\n      <td>6210</td>\n      <td>6211001</td>\n      <td>43.533633</td>\n      <td>6.933755</td>\n      <td>E10</td>\n      <td>Road</td>\n      <td>1.329</td>\n      <td>2019-01-04</td>\n      <td>Friday</td>\n      <td>FR,6</td>\n    </tr>\n    <tr>\n      <th>38382</th>\n      <td>6210</td>\n      <td>6211001</td>\n      <td>43.533633</td>\n      <td>6.933755</td>\n      <td>E10</td>\n      <td>Road</td>\n      <td>1.329</td>\n      <td>2019-01-04</td>\n      <td>Friday</td>\n      <td>FR,6</td>\n    </tr>\n    <tr>\n      <th>38383</th>\n      <td>6210</td>\n      <td>6211001</td>\n      <td>43.533633</td>\n      <td>6.933755</td>\n      <td>E10</td>\n      <td>Road</td>\n      <td>1.329</td>\n      <td>2019-01-04</td>\n      <td>Friday</td>\n      <td>FR,6</td>\n    </tr>\n    <tr>\n      <th>38384</th>\n      <td>6210</td>\n      <td>6211001</td>\n      <td>43.533633</td>\n      <td>6.933755</td>\n      <td>E10</td>\n      <td>Road</td>\n      <td>1.329</td>\n      <td>2019-01-04</td>\n      <td>Friday</td>\n      <td>FR,6</td>\n    </tr>\n    <tr>\n      <th>38385</th>\n      <td>6210</td>\n      <td>6211001</td>\n      <td>43.533633</td>\n      <td>6.933755</td>\n      <td>E10</td>\n      <td>Road</td>\n      <td>1.329</td>\n      <td>2019-01-04</td>\n      <td>Friday</td>\n      <td>FR,6</td>\n    </tr>\n    <tr>\n      <th>38386</th>\n      <td>6210</td>\n      <td>6211001</td>\n      <td>43.533633</td>\n      <td>6.933755</td>\n      <td>E10</td>\n      <td>Road</td>\n      <td>1.329</td>\n      <td>2019-01-04</td>\n      <td>Friday</td>\n      <td>FR,6</td>\n    </tr>\n    <tr>\n      <th>38387</th>\n      <td>6210</td>\n      <td>6211001</td>\n      <td>43.533633</td>\n      <td>6.933755</td>\n      <td>E10</td>\n      <td>Road</td>\n      <td>1.329</td>\n      <td>2019-01-04</td>\n      <td>Friday</td>\n      <td>FR,6</td>\n    </tr>\n    <tr>\n      <th>38388</th>\n      <td>6210</td>\n      <td>6211001</td>\n      <td>43.533633</td>\n      <td>6.933755</td>\n      <td>E10</td>\n      <td>Road</td>\n      <td>1.329</td>\n      <td>2019-01-04</td>\n      <td>Friday</td>\n      <td>FR,6</td>\n    </tr>\n    <tr>\n      <th>38389</th>\n      <td>6210</td>\n      <td>6211001</td>\n      <td>43.533633</td>\n      <td>6.933755</td>\n      <td>E10</td>\n      <td>Road</td>\n      <td>1.329</td>\n      <td>2019-01-04</td>\n      <td>Friday</td>\n      <td>FR,6</td>\n    </tr>\n    <tr>\n      <th>38390</th>\n      <td>6210</td>\n      <td>6211001</td>\n      <td>43.533633</td>\n      <td>6.933755</td>\n      <td>E10</td>\n      <td>Road</td>\n      <td>1.329</td>\n      <td>2019-01-04</td>\n      <td>Friday</td>\n      <td>FR,6</td>\n    </tr>\n    <tr>\n      <th>38391</th>\n      <td>6210</td>\n      <td>6211001</td>\n      <td>43.533633</td>\n      <td>6.933755</td>\n      <td>E10</td>\n      <td>Road</td>\n      <td>1.329</td>\n      <td>2019-01-04</td>\n      <td>Friday</td>\n      <td>FR,6</td>\n    </tr>\n    <tr>\n      <th>38392</th>\n      <td>6210</td>\n      <td>6211001</td>\n      <td>43.533633</td>\n      <td>6.933755</td>\n      <td>E10</td>\n      <td>Road</td>\n      <td>1.329</td>\n      <td>2019-01-04</td>\n      <td>Friday</td>\n      <td>FR,6</td>\n    </tr>\n    <tr>\n      <th>38393</th>\n      <td>6210</td>\n      <td>6211001</td>\n      <td>43.533633</td>\n      <td>6.933755</td>\n      <td>E10</td>\n      <td>Road</td>\n      <td>1.329</td>\n      <td>2019-01-04</td>\n      <td>Friday</td>\n      <td>FR,6</td>\n    </tr>\n    <tr>\n      <th>38394</th>\n      <td>6210</td>\n      <td>6211001</td>\n      <td>43.533633</td>\n      <td>6.933755</td>\n      <td>E10</td>\n      <td>Road</td>\n      <td>1.329</td>\n      <td>2019-01-04</td>\n      <td>Friday</td>\n      <td>FR,6</td>\n    </tr>\n    <tr>\n      <th>38395</th>\n      <td>6210</td>\n      <td>6211001</td>\n      <td>43.533633</td>\n      <td>6.933755</td>\n      <td>E10</td>\n      <td>Road</td>\n      <td>1.329</td>\n      <td>2019-01-04</td>\n      <td>Friday</td>\n      <td>FR,6</td>\n    </tr>\n    <tr>\n      <th>38396</th>\n      <td>6210</td>\n      <td>6211001</td>\n      <td>43.533633</td>\n      <td>6.933755</td>\n      <td>E10</td>\n      <td>Road</td>\n      <td>1.329</td>\n      <td>2019-01-04</td>\n      <td>Friday</td>\n      <td>FR,6</td>\n    </tr>\n    <tr>\n      <th>38397</th>\n      <td>6210</td>\n      <td>6211001</td>\n      <td>43.533633</td>\n      <td>6.933755</td>\n      <td>E10</td>\n      <td>Road</td>\n      <td>1.329</td>\n      <td>2019-01-04</td>\n      <td>Friday</td>\n      <td>FR,6</td>\n    </tr>\n    <tr>\n      <th>38398</th>\n      <td>6210</td>\n      <td>6211001</td>\n      <td>43.533633</td>\n      <td>6.933755</td>\n      <td>E10</td>\n      <td>Road</td>\n      <td>1.329</td>\n      <td>2019-01-04</td>\n      <td>Friday</td>\n      <td>FR,6</td>\n    </tr>\n    <tr>\n      <th>38399</th>\n      <td>6210</td>\n      <td>6211001</td>\n      <td>43.533633</td>\n      <td>6.933755</td>\n      <td>E10</td>\n      <td>Road</td>\n      <td>1.329</td>\n      <td>2019-01-04</td>\n      <td>Friday</td>\n      <td>FR,6</td>\n    </tr>\n  </tbody>\n</table>\n</div>"
          },
          "metadata": {}
        }
      ]
    },
    {
      "metadata": {},
      "cell_type": "markdown",
      "source": "A quick lookup in the XML file will confirm that the duplicates don't come from a bug in our code: for this station there are actual price entries that are minutes or even seconds apart, which is weird!\n\nIn order to cope for this (and reduce the size of our data), we'll take the first entry of each group. Another approach would be to average the prices, in case they were different *inside* a group."
    },
    {
      "metadata": {
        "trusted": true
      },
      "cell_type": "code",
      "source": "# Try this first\ngrouped_by_station_date_and_type.first()",
      "execution_count": 34,
      "outputs": [
        {
          "output_type": "execute_result",
          "execution_count": 34,
          "data": {
            "text/plain": "                               cp  latitude  longitude   pop  valeur  \\\nid       date       nom                                                \n1000001  2019-01-04 Gazole   1000  46.20114    5.19791  Road   1.328   \n                    SP95     1000  46.20114    5.19791  Road   1.375   \n                    SP98     1000  46.20114    5.19791  Road   1.399   \n         2019-01-07 Gazole   1000  46.20114    5.19791  Road   1.348   \n                    SP95     1000  46.20114    5.19791  Road   1.387   \n                    SP98     1000  46.20114    5.19791  Road   1.409   \n         2019-01-10 Gazole   1000  46.20114    5.19791  Road   1.374   \n                    SP95     1000  46.20114    5.19791  Road   1.395   \n                    SP98     1000  46.20114    5.19791  Road   1.425   \n         2019-01-11 Gazole   1000  46.20114    5.19791  Road   1.387   \n                    SP95     1000  46.20114    5.19791  Road   1.410   \n                    SP98     1000  46.20114    5.19791  Road   1.434   \n         2019-01-14 Gazole   1000  46.20114    5.19791  Road   1.394   \n                    SP95     1000  46.20114    5.19791  Road   1.415   \n                    SP98     1000  46.20114    5.19791  Road   1.439   \n         2019-01-16 Gazole   1000  46.20114    5.19791  Road   1.394   \n                    SP95     1000  46.20114    5.19791  Road   1.410   \n                    SP98     1000  46.20114    5.19791  Road   1.435   \n         2019-01-17 Gazole   1000  46.20114    5.19791  Road   1.391   \n                    SP95     1000  46.20114    5.19791  Road   1.410   \n                    SP98     1000  46.20114    5.19791  Road   1.435   \n         2019-01-18 Gazole   1000  46.20114    5.19791  Road   1.401   \n                    SP95     1000  46.20114    5.19791  Road   1.410   \n                    SP98     1000  46.20114    5.19791  Road   1.437   \n         2019-01-21 Gazole   1000  46.20114    5.19791  Road   1.401   \n                    SP95     1000  46.20114    5.19791  Road   1.413   \n                    SP98     1000  46.20114    5.19791  Road   1.437   \n         2019-01-23 Gazole   1000  46.20114    5.19791  Road   1.408   \n                    SP95     1000  46.20114    5.19791  Road   1.425   \n                    SP98     1000  46.20114    5.19791  Road   1.459   \n...                           ...       ...        ...   ...     ...   \n95870009 2019-03-22 E10     95870  48.92800    2.21300  Road   1.446   \n                    Gazole  95870  48.92800    2.21300  Road   1.466   \n                    SP98    95870  48.92800    2.21300  Road   1.534   \n         2019-03-23 E10     95870  48.92800    2.21300  Road   1.458   \n                    Gazole  95870  48.92800    2.21300  Road   1.465   \n                    SP98    95870  48.92800    2.21300  Road   1.549   \n         2019-03-24 E10     95870  48.92800    2.21300  Road   1.458   \n                    Gazole  95870  48.92800    2.21300  Road   1.465   \n                    SP98    95870  48.92800    2.21300  Road   1.549   \n         2019-03-25 E10     95870  48.92800    2.21300  Road   1.458   \n                    Gazole  95870  48.92800    2.21300  Road   1.465   \n                    SP98    95870  48.92800    2.21300  Road   1.549   \n         2019-03-26 E10     95870  48.92800    2.21300  Road   1.469   \n                    Gazole  95870  48.92800    2.21300  Road   1.466   \n                    SP98    95870  48.92800    2.21300  Road   1.559   \n         2019-03-27 E10     95870  48.92800    2.21300  Road   1.479   \n                    Gazole  95870  48.92800    2.21300  Road   1.465   \n                    SP98    95870  48.92800    2.21300  Road   1.562   \n         2019-03-28 E10     95870  48.92800    2.21300  Road   1.479   \n                    Gazole  95870  48.92800    2.21300  Road   1.465   \n                    SP98    95870  48.92800    2.21300  Road   1.562   \n         2019-03-29 E10     95870  48.92800    2.21300  Road   1.482   \n                    Gazole  95870  48.92800    2.21300  Road   1.465   \n                    SP98    95870  48.92800    2.21300  Road   1.566   \n         2019-03-30 E10     95870  48.92800    2.21300  Road   1.485   \n                    Gazole  95870  48.92800    2.21300  Road   1.465   \n                    SP98    95870  48.92800    2.21300  Road   1.579   \n         2019-03-31 E10     95870  48.92800    2.21300  Road   1.485   \n                    Gazole  95870  48.92800    2.21300  Road   1.465   \n                    SP98    95870  48.92800    2.21300  Road   1.579   \n\n                              weekday department_pointer  \nid       date       nom                                   \n1000001  2019-01-04 Gazole     Friday               FR,1  \n                    SP95       Friday               FR,1  \n                    SP98       Friday               FR,1  \n         2019-01-07 Gazole     Monday               FR,1  \n                    SP95       Monday               FR,1  \n                    SP98       Monday               FR,1  \n         2019-01-10 Gazole   Thursday               FR,1  \n                    SP95     Thursday               FR,1  \n                    SP98     Thursday               FR,1  \n         2019-01-11 Gazole     Friday               FR,1  \n                    SP95       Friday               FR,1  \n                    SP98       Friday               FR,1  \n         2019-01-14 Gazole     Monday               FR,1  \n                    SP95       Monday               FR,1  \n                    SP98       Monday               FR,1  \n         2019-01-16 Gazole  Wednesday               FR,1  \n                    SP95    Wednesday               FR,1  \n                    SP98    Wednesday               FR,1  \n         2019-01-17 Gazole   Thursday               FR,1  \n                    SP95     Thursday               FR,1  \n                    SP98     Thursday               FR,1  \n         2019-01-18 Gazole     Friday               FR,1  \n                    SP95       Friday               FR,1  \n                    SP98       Friday               FR,1  \n         2019-01-21 Gazole     Monday               FR,1  \n                    SP95       Monday               FR,1  \n                    SP98       Monday               FR,1  \n         2019-01-23 Gazole  Wednesday               FR,1  \n                    SP95    Wednesday               FR,1  \n                    SP98    Wednesday               FR,1  \n...                               ...                ...  \n95870009 2019-03-22 E10        Friday              FR,95  \n                    Gazole     Friday              FR,95  \n                    SP98       Friday              FR,95  \n         2019-03-23 E10      Saturday              FR,95  \n                    Gazole   Saturday              FR,95  \n                    SP98     Saturday              FR,95  \n         2019-03-24 E10        Sunday              FR,95  \n                    Gazole     Sunday              FR,95  \n                    SP98       Sunday              FR,95  \n         2019-03-25 E10        Monday              FR,95  \n                    Gazole     Monday              FR,95  \n                    SP98       Monday              FR,95  \n         2019-03-26 E10       Tuesday              FR,95  \n                    Gazole    Tuesday              FR,95  \n                    SP98      Tuesday              FR,95  \n         2019-03-27 E10     Wednesday              FR,95  \n                    Gazole  Wednesday              FR,95  \n                    SP98    Wednesday              FR,95  \n         2019-03-28 E10      Thursday              FR,95  \n                    Gazole   Thursday              FR,95  \n                    SP98     Thursday              FR,95  \n         2019-03-29 E10        Friday              FR,95  \n                    Gazole     Friday              FR,95  \n                    SP98       Friday              FR,95  \n         2019-03-30 E10      Saturday              FR,95  \n                    Gazole   Saturday              FR,95  \n                    SP98     Saturday              FR,95  \n         2019-03-31 E10        Sunday              FR,95  \n                    Gazole     Sunday              FR,95  \n                    SP98       Sunday              FR,95  \n\n[915390 rows x 7 columns]",
            "text/html": "<div>\n<table border=\"1\" class=\"dataframe\">\n  <thead>\n    <tr style=\"text-align: right;\">\n      <th></th>\n      <th></th>\n      <th></th>\n      <th>cp</th>\n      <th>latitude</th>\n      <th>longitude</th>\n      <th>pop</th>\n      <th>valeur</th>\n      <th>weekday</th>\n      <th>department_pointer</th>\n    </tr>\n    <tr>\n      <th>id</th>\n      <th>date</th>\n      <th>nom</th>\n      <th></th>\n      <th></th>\n      <th></th>\n      <th></th>\n      <th></th>\n      <th></th>\n      <th></th>\n    </tr>\n  </thead>\n  <tbody>\n    <tr>\n      <th rowspan=\"30\" valign=\"top\">1000001</th>\n      <th rowspan=\"3\" valign=\"top\">2019-01-04</th>\n      <th>Gazole</th>\n      <td>1000</td>\n      <td>46.20114</td>\n      <td>5.19791</td>\n      <td>Road</td>\n      <td>1.328</td>\n      <td>Friday</td>\n      <td>FR,1</td>\n    </tr>\n    <tr>\n      <th>SP95</th>\n      <td>1000</td>\n      <td>46.20114</td>\n      <td>5.19791</td>\n      <td>Road</td>\n      <td>1.375</td>\n      <td>Friday</td>\n      <td>FR,1</td>\n    </tr>\n    <tr>\n      <th>SP98</th>\n      <td>1000</td>\n      <td>46.20114</td>\n      <td>5.19791</td>\n      <td>Road</td>\n      <td>1.399</td>\n      <td>Friday</td>\n      <td>FR,1</td>\n    </tr>\n    <tr>\n      <th rowspan=\"3\" valign=\"top\">2019-01-07</th>\n      <th>Gazole</th>\n      <td>1000</td>\n      <td>46.20114</td>\n      <td>5.19791</td>\n      <td>Road</td>\n      <td>1.348</td>\n      <td>Monday</td>\n      <td>FR,1</td>\n    </tr>\n    <tr>\n      <th>SP95</th>\n      <td>1000</td>\n      <td>46.20114</td>\n      <td>5.19791</td>\n      <td>Road</td>\n      <td>1.387</td>\n      <td>Monday</td>\n      <td>FR,1</td>\n    </tr>\n    <tr>\n      <th>SP98</th>\n      <td>1000</td>\n      <td>46.20114</td>\n      <td>5.19791</td>\n      <td>Road</td>\n      <td>1.409</td>\n      <td>Monday</td>\n      <td>FR,1</td>\n    </tr>\n    <tr>\n      <th rowspan=\"3\" valign=\"top\">2019-01-10</th>\n      <th>Gazole</th>\n      <td>1000</td>\n      <td>46.20114</td>\n      <td>5.19791</td>\n      <td>Road</td>\n      <td>1.374</td>\n      <td>Thursday</td>\n      <td>FR,1</td>\n    </tr>\n    <tr>\n      <th>SP95</th>\n      <td>1000</td>\n      <td>46.20114</td>\n      <td>5.19791</td>\n      <td>Road</td>\n      <td>1.395</td>\n      <td>Thursday</td>\n      <td>FR,1</td>\n    </tr>\n    <tr>\n      <th>SP98</th>\n      <td>1000</td>\n      <td>46.20114</td>\n      <td>5.19791</td>\n      <td>Road</td>\n      <td>1.425</td>\n      <td>Thursday</td>\n      <td>FR,1</td>\n    </tr>\n    <tr>\n      <th rowspan=\"3\" valign=\"top\">2019-01-11</th>\n      <th>Gazole</th>\n      <td>1000</td>\n      <td>46.20114</td>\n      <td>5.19791</td>\n      <td>Road</td>\n      <td>1.387</td>\n      <td>Friday</td>\n      <td>FR,1</td>\n    </tr>\n    <tr>\n      <th>SP95</th>\n      <td>1000</td>\n      <td>46.20114</td>\n      <td>5.19791</td>\n      <td>Road</td>\n      <td>1.410</td>\n      <td>Friday</td>\n      <td>FR,1</td>\n    </tr>\n    <tr>\n      <th>SP98</th>\n      <td>1000</td>\n      <td>46.20114</td>\n      <td>5.19791</td>\n      <td>Road</td>\n      <td>1.434</td>\n      <td>Friday</td>\n      <td>FR,1</td>\n    </tr>\n    <tr>\n      <th rowspan=\"3\" valign=\"top\">2019-01-14</th>\n      <th>Gazole</th>\n      <td>1000</td>\n      <td>46.20114</td>\n      <td>5.19791</td>\n      <td>Road</td>\n      <td>1.394</td>\n      <td>Monday</td>\n      <td>FR,1</td>\n    </tr>\n    <tr>\n      <th>SP95</th>\n      <td>1000</td>\n      <td>46.20114</td>\n      <td>5.19791</td>\n      <td>Road</td>\n      <td>1.415</td>\n      <td>Monday</td>\n      <td>FR,1</td>\n    </tr>\n    <tr>\n      <th>SP98</th>\n      <td>1000</td>\n      <td>46.20114</td>\n      <td>5.19791</td>\n      <td>Road</td>\n      <td>1.439</td>\n      <td>Monday</td>\n      <td>FR,1</td>\n    </tr>\n    <tr>\n      <th rowspan=\"3\" valign=\"top\">2019-01-16</th>\n      <th>Gazole</th>\n      <td>1000</td>\n      <td>46.20114</td>\n      <td>5.19791</td>\n      <td>Road</td>\n      <td>1.394</td>\n      <td>Wednesday</td>\n      <td>FR,1</td>\n    </tr>\n    <tr>\n      <th>SP95</th>\n      <td>1000</td>\n      <td>46.20114</td>\n      <td>5.19791</td>\n      <td>Road</td>\n      <td>1.410</td>\n      <td>Wednesday</td>\n      <td>FR,1</td>\n    </tr>\n    <tr>\n      <th>SP98</th>\n      <td>1000</td>\n      <td>46.20114</td>\n      <td>5.19791</td>\n      <td>Road</td>\n      <td>1.435</td>\n      <td>Wednesday</td>\n      <td>FR,1</td>\n    </tr>\n    <tr>\n      <th rowspan=\"3\" valign=\"top\">2019-01-17</th>\n      <th>Gazole</th>\n      <td>1000</td>\n      <td>46.20114</td>\n      <td>5.19791</td>\n      <td>Road</td>\n      <td>1.391</td>\n      <td>Thursday</td>\n      <td>FR,1</td>\n    </tr>\n    <tr>\n      <th>SP95</th>\n      <td>1000</td>\n      <td>46.20114</td>\n      <td>5.19791</td>\n      <td>Road</td>\n      <td>1.410</td>\n      <td>Thursday</td>\n      <td>FR,1</td>\n    </tr>\n    <tr>\n      <th>SP98</th>\n      <td>1000</td>\n      <td>46.20114</td>\n      <td>5.19791</td>\n      <td>Road</td>\n      <td>1.435</td>\n      <td>Thursday</td>\n      <td>FR,1</td>\n    </tr>\n    <tr>\n      <th rowspan=\"3\" valign=\"top\">2019-01-18</th>\n      <th>Gazole</th>\n      <td>1000</td>\n      <td>46.20114</td>\n      <td>5.19791</td>\n      <td>Road</td>\n      <td>1.401</td>\n      <td>Friday</td>\n      <td>FR,1</td>\n    </tr>\n    <tr>\n      <th>SP95</th>\n      <td>1000</td>\n      <td>46.20114</td>\n      <td>5.19791</td>\n      <td>Road</td>\n      <td>1.410</td>\n      <td>Friday</td>\n      <td>FR,1</td>\n    </tr>\n    <tr>\n      <th>SP98</th>\n      <td>1000</td>\n      <td>46.20114</td>\n      <td>5.19791</td>\n      <td>Road</td>\n      <td>1.437</td>\n      <td>Friday</td>\n      <td>FR,1</td>\n    </tr>\n    <tr>\n      <th rowspan=\"3\" valign=\"top\">2019-01-21</th>\n      <th>Gazole</th>\n      <td>1000</td>\n      <td>46.20114</td>\n      <td>5.19791</td>\n      <td>Road</td>\n      <td>1.401</td>\n      <td>Monday</td>\n      <td>FR,1</td>\n    </tr>\n    <tr>\n      <th>SP95</th>\n      <td>1000</td>\n      <td>46.20114</td>\n      <td>5.19791</td>\n      <td>Road</td>\n      <td>1.413</td>\n      <td>Monday</td>\n      <td>FR,1</td>\n    </tr>\n    <tr>\n      <th>SP98</th>\n      <td>1000</td>\n      <td>46.20114</td>\n      <td>5.19791</td>\n      <td>Road</td>\n      <td>1.437</td>\n      <td>Monday</td>\n      <td>FR,1</td>\n    </tr>\n    <tr>\n      <th rowspan=\"3\" valign=\"top\">2019-01-23</th>\n      <th>Gazole</th>\n      <td>1000</td>\n      <td>46.20114</td>\n      <td>5.19791</td>\n      <td>Road</td>\n      <td>1.408</td>\n      <td>Wednesday</td>\n      <td>FR,1</td>\n    </tr>\n    <tr>\n      <th>SP95</th>\n      <td>1000</td>\n      <td>46.20114</td>\n      <td>5.19791</td>\n      <td>Road</td>\n      <td>1.425</td>\n      <td>Wednesday</td>\n      <td>FR,1</td>\n    </tr>\n    <tr>\n      <th>SP98</th>\n      <td>1000</td>\n      <td>46.20114</td>\n      <td>5.19791</td>\n      <td>Road</td>\n      <td>1.459</td>\n      <td>Wednesday</td>\n      <td>FR,1</td>\n    </tr>\n    <tr>\n      <th>...</th>\n      <th>...</th>\n      <th>...</th>\n      <td>...</td>\n      <td>...</td>\n      <td>...</td>\n      <td>...</td>\n      <td>...</td>\n      <td>...</td>\n      <td>...</td>\n    </tr>\n    <tr>\n      <th rowspan=\"30\" valign=\"top\">95870009</th>\n      <th rowspan=\"3\" valign=\"top\">2019-03-22</th>\n      <th>E10</th>\n      <td>95870</td>\n      <td>48.92800</td>\n      <td>2.21300</td>\n      <td>Road</td>\n      <td>1.446</td>\n      <td>Friday</td>\n      <td>FR,95</td>\n    </tr>\n    <tr>\n      <th>Gazole</th>\n      <td>95870</td>\n      <td>48.92800</td>\n      <td>2.21300</td>\n      <td>Road</td>\n      <td>1.466</td>\n      <td>Friday</td>\n      <td>FR,95</td>\n    </tr>\n    <tr>\n      <th>SP98</th>\n      <td>95870</td>\n      <td>48.92800</td>\n      <td>2.21300</td>\n      <td>Road</td>\n      <td>1.534</td>\n      <td>Friday</td>\n      <td>FR,95</td>\n    </tr>\n    <tr>\n      <th rowspan=\"3\" valign=\"top\">2019-03-23</th>\n      <th>E10</th>\n      <td>95870</td>\n      <td>48.92800</td>\n      <td>2.21300</td>\n      <td>Road</td>\n      <td>1.458</td>\n      <td>Saturday</td>\n      <td>FR,95</td>\n    </tr>\n    <tr>\n      <th>Gazole</th>\n      <td>95870</td>\n      <td>48.92800</td>\n      <td>2.21300</td>\n      <td>Road</td>\n      <td>1.465</td>\n      <td>Saturday</td>\n      <td>FR,95</td>\n    </tr>\n    <tr>\n      <th>SP98</th>\n      <td>95870</td>\n      <td>48.92800</td>\n      <td>2.21300</td>\n      <td>Road</td>\n      <td>1.549</td>\n      <td>Saturday</td>\n      <td>FR,95</td>\n    </tr>\n    <tr>\n      <th rowspan=\"3\" valign=\"top\">2019-03-24</th>\n      <th>E10</th>\n      <td>95870</td>\n      <td>48.92800</td>\n      <td>2.21300</td>\n      <td>Road</td>\n      <td>1.458</td>\n      <td>Sunday</td>\n      <td>FR,95</td>\n    </tr>\n    <tr>\n      <th>Gazole</th>\n      <td>95870</td>\n      <td>48.92800</td>\n      <td>2.21300</td>\n      <td>Road</td>\n      <td>1.465</td>\n      <td>Sunday</td>\n      <td>FR,95</td>\n    </tr>\n    <tr>\n      <th>SP98</th>\n      <td>95870</td>\n      <td>48.92800</td>\n      <td>2.21300</td>\n      <td>Road</td>\n      <td>1.549</td>\n      <td>Sunday</td>\n      <td>FR,95</td>\n    </tr>\n    <tr>\n      <th rowspan=\"3\" valign=\"top\">2019-03-25</th>\n      <th>E10</th>\n      <td>95870</td>\n      <td>48.92800</td>\n      <td>2.21300</td>\n      <td>Road</td>\n      <td>1.458</td>\n      <td>Monday</td>\n      <td>FR,95</td>\n    </tr>\n    <tr>\n      <th>Gazole</th>\n      <td>95870</td>\n      <td>48.92800</td>\n      <td>2.21300</td>\n      <td>Road</td>\n      <td>1.465</td>\n      <td>Monday</td>\n      <td>FR,95</td>\n    </tr>\n    <tr>\n      <th>SP98</th>\n      <td>95870</td>\n      <td>48.92800</td>\n      <td>2.21300</td>\n      <td>Road</td>\n      <td>1.549</td>\n      <td>Monday</td>\n      <td>FR,95</td>\n    </tr>\n    <tr>\n      <th rowspan=\"3\" valign=\"top\">2019-03-26</th>\n      <th>E10</th>\n      <td>95870</td>\n      <td>48.92800</td>\n      <td>2.21300</td>\n      <td>Road</td>\n      <td>1.469</td>\n      <td>Tuesday</td>\n      <td>FR,95</td>\n    </tr>\n    <tr>\n      <th>Gazole</th>\n      <td>95870</td>\n      <td>48.92800</td>\n      <td>2.21300</td>\n      <td>Road</td>\n      <td>1.466</td>\n      <td>Tuesday</td>\n      <td>FR,95</td>\n    </tr>\n    <tr>\n      <th>SP98</th>\n      <td>95870</td>\n      <td>48.92800</td>\n      <td>2.21300</td>\n      <td>Road</td>\n      <td>1.559</td>\n      <td>Tuesday</td>\n      <td>FR,95</td>\n    </tr>\n    <tr>\n      <th rowspan=\"3\" valign=\"top\">2019-03-27</th>\n      <th>E10</th>\n      <td>95870</td>\n      <td>48.92800</td>\n      <td>2.21300</td>\n      <td>Road</td>\n      <td>1.479</td>\n      <td>Wednesday</td>\n      <td>FR,95</td>\n    </tr>\n    <tr>\n      <th>Gazole</th>\n      <td>95870</td>\n      <td>48.92800</td>\n      <td>2.21300</td>\n      <td>Road</td>\n      <td>1.465</td>\n      <td>Wednesday</td>\n      <td>FR,95</td>\n    </tr>\n    <tr>\n      <th>SP98</th>\n      <td>95870</td>\n      <td>48.92800</td>\n      <td>2.21300</td>\n      <td>Road</td>\n      <td>1.562</td>\n      <td>Wednesday</td>\n      <td>FR,95</td>\n    </tr>\n    <tr>\n      <th rowspan=\"3\" valign=\"top\">2019-03-28</th>\n      <th>E10</th>\n      <td>95870</td>\n      <td>48.92800</td>\n      <td>2.21300</td>\n      <td>Road</td>\n      <td>1.479</td>\n      <td>Thursday</td>\n      <td>FR,95</td>\n    </tr>\n    <tr>\n      <th>Gazole</th>\n      <td>95870</td>\n      <td>48.92800</td>\n      <td>2.21300</td>\n      <td>Road</td>\n      <td>1.465</td>\n      <td>Thursday</td>\n      <td>FR,95</td>\n    </tr>\n    <tr>\n      <th>SP98</th>\n      <td>95870</td>\n      <td>48.92800</td>\n      <td>2.21300</td>\n      <td>Road</td>\n      <td>1.562</td>\n      <td>Thursday</td>\n      <td>FR,95</td>\n    </tr>\n    <tr>\n      <th rowspan=\"3\" valign=\"top\">2019-03-29</th>\n      <th>E10</th>\n      <td>95870</td>\n      <td>48.92800</td>\n      <td>2.21300</td>\n      <td>Road</td>\n      <td>1.482</td>\n      <td>Friday</td>\n      <td>FR,95</td>\n    </tr>\n    <tr>\n      <th>Gazole</th>\n      <td>95870</td>\n      <td>48.92800</td>\n      <td>2.21300</td>\n      <td>Road</td>\n      <td>1.465</td>\n      <td>Friday</td>\n      <td>FR,95</td>\n    </tr>\n    <tr>\n      <th>SP98</th>\n      <td>95870</td>\n      <td>48.92800</td>\n      <td>2.21300</td>\n      <td>Road</td>\n      <td>1.566</td>\n      <td>Friday</td>\n      <td>FR,95</td>\n    </tr>\n    <tr>\n      <th rowspan=\"3\" valign=\"top\">2019-03-30</th>\n      <th>E10</th>\n      <td>95870</td>\n      <td>48.92800</td>\n      <td>2.21300</td>\n      <td>Road</td>\n      <td>1.485</td>\n      <td>Saturday</td>\n      <td>FR,95</td>\n    </tr>\n    <tr>\n      <th>Gazole</th>\n      <td>95870</td>\n      <td>48.92800</td>\n      <td>2.21300</td>\n      <td>Road</td>\n      <td>1.465</td>\n      <td>Saturday</td>\n      <td>FR,95</td>\n    </tr>\n    <tr>\n      <th>SP98</th>\n      <td>95870</td>\n      <td>48.92800</td>\n      <td>2.21300</td>\n      <td>Road</td>\n      <td>1.579</td>\n      <td>Saturday</td>\n      <td>FR,95</td>\n    </tr>\n    <tr>\n      <th rowspan=\"3\" valign=\"top\">2019-03-31</th>\n      <th>E10</th>\n      <td>95870</td>\n      <td>48.92800</td>\n      <td>2.21300</td>\n      <td>Road</td>\n      <td>1.485</td>\n      <td>Sunday</td>\n      <td>FR,95</td>\n    </tr>\n    <tr>\n      <th>Gazole</th>\n      <td>95870</td>\n      <td>48.92800</td>\n      <td>2.21300</td>\n      <td>Road</td>\n      <td>1.465</td>\n      <td>Sunday</td>\n      <td>FR,95</td>\n    </tr>\n    <tr>\n      <th>SP98</th>\n      <td>95870</td>\n      <td>48.92800</td>\n      <td>2.21300</td>\n      <td>Road</td>\n      <td>1.579</td>\n      <td>Sunday</td>\n      <td>FR,95</td>\n    </tr>\n  </tbody>\n</table>\n<p>915390 rows × 7 columns</p>\n</div>"
          },
          "metadata": {}
        }
      ]
    },
    {
      "metadata": {},
      "cell_type": "markdown",
      "source": "We get the expected result, but it is still indexed by the group by list (it looks like a pivot table in Excel). We want to \"flatten\" it and make the index normal columns again. For this the `.reset_index()` method comes in handy."
    },
    {
      "metadata": {
        "trusted": true
      },
      "cell_type": "code",
      "source": "prices = grouped_by_station_date_and_type.first().reset_index()\nprices.head()",
      "execution_count": 35,
      "outputs": [
        {
          "output_type": "execute_result",
          "execution_count": 35,
          "data": {
            "text/plain": "        id        date     nom    cp  latitude  longitude   pop  valeur  \\\n0  1000001  2019-01-04  Gazole  1000  46.20114    5.19791  Road   1.328   \n1  1000001  2019-01-04    SP95  1000  46.20114    5.19791  Road   1.375   \n2  1000001  2019-01-04    SP98  1000  46.20114    5.19791  Road   1.399   \n3  1000001  2019-01-07  Gazole  1000  46.20114    5.19791  Road   1.348   \n4  1000001  2019-01-07    SP95  1000  46.20114    5.19791  Road   1.387   \n\n  weekday department_pointer  \n0  Friday               FR,1  \n1  Friday               FR,1  \n2  Friday               FR,1  \n3  Monday               FR,1  \n4  Monday               FR,1  ",
            "text/html": "<div>\n<table border=\"1\" class=\"dataframe\">\n  <thead>\n    <tr style=\"text-align: right;\">\n      <th></th>\n      <th>id</th>\n      <th>date</th>\n      <th>nom</th>\n      <th>cp</th>\n      <th>latitude</th>\n      <th>longitude</th>\n      <th>pop</th>\n      <th>valeur</th>\n      <th>weekday</th>\n      <th>department_pointer</th>\n    </tr>\n  </thead>\n  <tbody>\n    <tr>\n      <th>0</th>\n      <td>1000001</td>\n      <td>2019-01-04</td>\n      <td>Gazole</td>\n      <td>1000</td>\n      <td>46.20114</td>\n      <td>5.19791</td>\n      <td>Road</td>\n      <td>1.328</td>\n      <td>Friday</td>\n      <td>FR,1</td>\n    </tr>\n    <tr>\n      <th>1</th>\n      <td>1000001</td>\n      <td>2019-01-04</td>\n      <td>SP95</td>\n      <td>1000</td>\n      <td>46.20114</td>\n      <td>5.19791</td>\n      <td>Road</td>\n      <td>1.375</td>\n      <td>Friday</td>\n      <td>FR,1</td>\n    </tr>\n    <tr>\n      <th>2</th>\n      <td>1000001</td>\n      <td>2019-01-04</td>\n      <td>SP98</td>\n      <td>1000</td>\n      <td>46.20114</td>\n      <td>5.19791</td>\n      <td>Road</td>\n      <td>1.399</td>\n      <td>Friday</td>\n      <td>FR,1</td>\n    </tr>\n    <tr>\n      <th>3</th>\n      <td>1000001</td>\n      <td>2019-01-07</td>\n      <td>Gazole</td>\n      <td>1000</td>\n      <td>46.20114</td>\n      <td>5.19791</td>\n      <td>Road</td>\n      <td>1.348</td>\n      <td>Monday</td>\n      <td>FR,1</td>\n    </tr>\n    <tr>\n      <th>4</th>\n      <td>1000001</td>\n      <td>2019-01-07</td>\n      <td>SP95</td>\n      <td>1000</td>\n      <td>46.20114</td>\n      <td>5.19791</td>\n      <td>Road</td>\n      <td>1.387</td>\n      <td>Monday</td>\n      <td>FR,1</td>\n    </tr>\n  </tbody>\n</table>\n</div>"
          },
          "metadata": {}
        }
      ]
    },
    {
      "metadata": {},
      "cell_type": "markdown",
      "source": "## Renaming columns\n\nThe original column names are not very useful. We do some cleaning on that part as well."
    },
    {
      "metadata": {
        "trusted": true
      },
      "cell_type": "code",
      "source": "prices = prices.rename(columns={\n    'id': 'station_id',\n    'cp': 'zip_code',\n    'pop': 'location_type',\n    'nom': 'gas_type',\n    'valeur': 'price'\n})",
      "execution_count": 36,
      "outputs": []
    },
    {
      "metadata": {
        "trusted": true
      },
      "cell_type": "code",
      "source": "# Let's have a look at our final prices dateset\nprices.head()",
      "execution_count": 37,
      "outputs": [
        {
          "output_type": "execute_result",
          "execution_count": 37,
          "data": {
            "text/plain": "   station_id        date gas_type  zip_code  latitude  longitude  \\\n0     1000001  2019-01-04   Gazole      1000  46.20114    5.19791   \n1     1000001  2019-01-04     SP95      1000  46.20114    5.19791   \n2     1000001  2019-01-04     SP98      1000  46.20114    5.19791   \n3     1000001  2019-01-07   Gazole      1000  46.20114    5.19791   \n4     1000001  2019-01-07     SP95      1000  46.20114    5.19791   \n\n  location_type  price weekday department_pointer  \n0          Road  1.328  Friday               FR,1  \n1          Road  1.375  Friday               FR,1  \n2          Road  1.399  Friday               FR,1  \n3          Road  1.348  Monday               FR,1  \n4          Road  1.387  Monday               FR,1  ",
            "text/html": "<div>\n<table border=\"1\" class=\"dataframe\">\n  <thead>\n    <tr style=\"text-align: right;\">\n      <th></th>\n      <th>station_id</th>\n      <th>date</th>\n      <th>gas_type</th>\n      <th>zip_code</th>\n      <th>latitude</th>\n      <th>longitude</th>\n      <th>location_type</th>\n      <th>price</th>\n      <th>weekday</th>\n      <th>department_pointer</th>\n    </tr>\n  </thead>\n  <tbody>\n    <tr>\n      <th>0</th>\n      <td>1000001</td>\n      <td>2019-01-04</td>\n      <td>Gazole</td>\n      <td>1000</td>\n      <td>46.20114</td>\n      <td>5.19791</td>\n      <td>Road</td>\n      <td>1.328</td>\n      <td>Friday</td>\n      <td>FR,1</td>\n    </tr>\n    <tr>\n      <th>1</th>\n      <td>1000001</td>\n      <td>2019-01-04</td>\n      <td>SP95</td>\n      <td>1000</td>\n      <td>46.20114</td>\n      <td>5.19791</td>\n      <td>Road</td>\n      <td>1.375</td>\n      <td>Friday</td>\n      <td>FR,1</td>\n    </tr>\n    <tr>\n      <th>2</th>\n      <td>1000001</td>\n      <td>2019-01-04</td>\n      <td>SP98</td>\n      <td>1000</td>\n      <td>46.20114</td>\n      <td>5.19791</td>\n      <td>Road</td>\n      <td>1.399</td>\n      <td>Friday</td>\n      <td>FR,1</td>\n    </tr>\n    <tr>\n      <th>3</th>\n      <td>1000001</td>\n      <td>2019-01-07</td>\n      <td>Gazole</td>\n      <td>1000</td>\n      <td>46.20114</td>\n      <td>5.19791</td>\n      <td>Road</td>\n      <td>1.348</td>\n      <td>Monday</td>\n      <td>FR,1</td>\n    </tr>\n    <tr>\n      <th>4</th>\n      <td>1000001</td>\n      <td>2019-01-07</td>\n      <td>SP95</td>\n      <td>1000</td>\n      <td>46.20114</td>\n      <td>5.19791</td>\n      <td>Road</td>\n      <td>1.387</td>\n      <td>Monday</td>\n      <td>FR,1</td>\n    </tr>\n  </tbody>\n</table>\n</div>"
          },
          "metadata": {}
        }
      ]
    },
    {
      "metadata": {},
      "cell_type": "markdown",
      "source": "# Merge with list of stations\n\nNow we are ready to load and match with the list of stations."
    },
    {
      "metadata": {
        "trusted": true
      },
      "cell_type": "code",
      "source": "stations = pd.read_csv('output/stations_with_coordinates.csv', sep=';')\nstations.head()",
      "execution_count": 39,
      "outputs": [
        {
          "output_type": "execute_result",
          "execution_count": 39,
          "data": {
            "text/plain": "   Identifiant            Marque                        Nom  Latitude  \\\n0     21360004              Avia          AVIA Creux Moreau  47.37861   \n1     27600003              Elan           GARAGE POUPARDIN  49.14759   \n2     27310003  Carrefour Market           Carrefour Market  49.35606   \n3     29200009       Intermarché  INTERMARCHE BREST CEDEX 2  48.40238   \n4     29420001         Système U           Super U PLOUENAN  48.62827   \n\n   Longitude  \n0    4.38168  \n1    1.33189  \n2    0.81532  \n3   -4.47910  \n4   -3.98804  ",
            "text/html": "<div>\n<table border=\"1\" class=\"dataframe\">\n  <thead>\n    <tr style=\"text-align: right;\">\n      <th></th>\n      <th>Identifiant</th>\n      <th>Marque</th>\n      <th>Nom</th>\n      <th>Latitude</th>\n      <th>Longitude</th>\n    </tr>\n  </thead>\n  <tbody>\n    <tr>\n      <th>0</th>\n      <td>21360004</td>\n      <td>Avia</td>\n      <td>AVIA Creux Moreau</td>\n      <td>47.37861</td>\n      <td>4.38168</td>\n    </tr>\n    <tr>\n      <th>1</th>\n      <td>27600003</td>\n      <td>Elan</td>\n      <td>GARAGE POUPARDIN</td>\n      <td>49.14759</td>\n      <td>1.33189</td>\n    </tr>\n    <tr>\n      <th>2</th>\n      <td>27310003</td>\n      <td>Carrefour Market</td>\n      <td>Carrefour Market</td>\n      <td>49.35606</td>\n      <td>0.81532</td>\n    </tr>\n    <tr>\n      <th>3</th>\n      <td>29200009</td>\n      <td>Intermarché</td>\n      <td>INTERMARCHE BREST CEDEX 2</td>\n      <td>48.40238</td>\n      <td>-4.47910</td>\n    </tr>\n    <tr>\n      <th>4</th>\n      <td>29420001</td>\n      <td>Système U</td>\n      <td>Super U PLOUENAN</td>\n      <td>48.62827</td>\n      <td>-3.98804</td>\n    </tr>\n  </tbody>\n</table>\n</div>"
          },
          "metadata": {}
        }
      ]
    },
    {
      "metadata": {},
      "cell_type": "markdown",
      "source": "Again, some renaming. Note that latitude and longitude are prefixed with `ref_` (for *referential*) in order to avoid confusion with the columns from the `prices` data frame."
    },
    {
      "metadata": {
        "trusted": true
      },
      "cell_type": "code",
      "source": "# Notice we don the operation in place here. Tastes...\nstations.rename(columns={\n    'Identifiant': 'station_id',\n    'Marque': 'brand',\n    'Nom': 'name',\n    'Latitude': 'ref_latitude',\n    'Longitude': 'ref_longitude'\n}, inplace=True)",
      "execution_count": 40,
      "outputs": []
    },
    {
      "metadata": {},
      "cell_type": "markdown",
      "source": "The actual merging operation. Unlike before, we don't merge on data frame indices, which are unrelated because the data comes from completely different sources. Instead, we merge on **columns** whose (common) name is passed as the `on=` parameter.\n\nThis is a **left** join, meaning that we expect some matches to fail. When a match succeeds, the data frame is enriched with information coming from the `stations` data frame. Otherwise, the corresponding information will be blank, meaning that the `station_id` of a price record could not be found in `stations`."
    },
    {
      "metadata": {
        "trusted": true
      },
      "cell_type": "code",
      "source": "prices_with_stations = pd.merge(prices, stations, on='''###CODE HERE###''', how='left')",
      "execution_count": 41,
      "outputs": []
    },
    {
      "metadata": {
        "trusted": true
      },
      "cell_type": "code",
      "source": "prices_with_stations.head()",
      "execution_count": 42,
      "outputs": [
        {
          "output_type": "execute_result",
          "execution_count": 42,
          "data": {
            "text/plain": "   station_id        date gas_type  zip_code  latitude  longitude  \\\n0     1000001  2019-01-04   Gazole      1000  46.20114    5.19791   \n1     1000001  2019-01-04     SP95      1000  46.20114    5.19791   \n2     1000001  2019-01-04     SP98      1000  46.20114    5.19791   \n3     1000001  2019-01-07   Gazole      1000  46.20114    5.19791   \n4     1000001  2019-01-07     SP95      1000  46.20114    5.19791   \n\n  location_type  price weekday department_pointer             brand  \\\n0          Road  1.328  Friday               FR,1  Carrefour Market   \n1          Road  1.375  Friday               FR,1  Carrefour Market   \n2          Road  1.399  Friday               FR,1  Carrefour Market   \n3          Road  1.348  Monday               FR,1  Carrefour Market   \n4          Road  1.387  Monday               FR,1  Carrefour Market   \n\n               name  ref_latitude  ref_longitude  \n0  Carrefour Market      46.20114        5.19791  \n1  Carrefour Market      46.20114        5.19791  \n2  Carrefour Market      46.20114        5.19791  \n3  Carrefour Market      46.20114        5.19791  \n4  Carrefour Market      46.20114        5.19791  ",
            "text/html": "<div>\n<table border=\"1\" class=\"dataframe\">\n  <thead>\n    <tr style=\"text-align: right;\">\n      <th></th>\n      <th>station_id</th>\n      <th>date</th>\n      <th>gas_type</th>\n      <th>zip_code</th>\n      <th>latitude</th>\n      <th>longitude</th>\n      <th>location_type</th>\n      <th>price</th>\n      <th>weekday</th>\n      <th>department_pointer</th>\n      <th>brand</th>\n      <th>name</th>\n      <th>ref_latitude</th>\n      <th>ref_longitude</th>\n    </tr>\n  </thead>\n  <tbody>\n    <tr>\n      <th>0</th>\n      <td>1000001</td>\n      <td>2019-01-04</td>\n      <td>Gazole</td>\n      <td>1000</td>\n      <td>46.20114</td>\n      <td>5.19791</td>\n      <td>Road</td>\n      <td>1.328</td>\n      <td>Friday</td>\n      <td>FR,1</td>\n      <td>Carrefour Market</td>\n      <td>Carrefour Market</td>\n      <td>46.20114</td>\n      <td>5.19791</td>\n    </tr>\n    <tr>\n      <th>1</th>\n      <td>1000001</td>\n      <td>2019-01-04</td>\n      <td>SP95</td>\n      <td>1000</td>\n      <td>46.20114</td>\n      <td>5.19791</td>\n      <td>Road</td>\n      <td>1.375</td>\n      <td>Friday</td>\n      <td>FR,1</td>\n      <td>Carrefour Market</td>\n      <td>Carrefour Market</td>\n      <td>46.20114</td>\n      <td>5.19791</td>\n    </tr>\n    <tr>\n      <th>2</th>\n      <td>1000001</td>\n      <td>2019-01-04</td>\n      <td>SP98</td>\n      <td>1000</td>\n      <td>46.20114</td>\n      <td>5.19791</td>\n      <td>Road</td>\n      <td>1.399</td>\n      <td>Friday</td>\n      <td>FR,1</td>\n      <td>Carrefour Market</td>\n      <td>Carrefour Market</td>\n      <td>46.20114</td>\n      <td>5.19791</td>\n    </tr>\n    <tr>\n      <th>3</th>\n      <td>1000001</td>\n      <td>2019-01-07</td>\n      <td>Gazole</td>\n      <td>1000</td>\n      <td>46.20114</td>\n      <td>5.19791</td>\n      <td>Road</td>\n      <td>1.348</td>\n      <td>Monday</td>\n      <td>FR,1</td>\n      <td>Carrefour Market</td>\n      <td>Carrefour Market</td>\n      <td>46.20114</td>\n      <td>5.19791</td>\n    </tr>\n    <tr>\n      <th>4</th>\n      <td>1000001</td>\n      <td>2019-01-07</td>\n      <td>SP95</td>\n      <td>1000</td>\n      <td>46.20114</td>\n      <td>5.19791</td>\n      <td>Road</td>\n      <td>1.387</td>\n      <td>Monday</td>\n      <td>FR,1</td>\n      <td>Carrefour Market</td>\n      <td>Carrefour Market</td>\n      <td>46.20114</td>\n      <td>5.19791</td>\n    </tr>\n  </tbody>\n</table>\n</div>"
          },
          "metadata": {}
        }
      ]
    },
    {
      "metadata": {},
      "cell_type": "markdown",
      "source": "Let's see the effect of the left join:"
    },
    {
      "metadata": {
        "trusted": true
      },
      "cell_type": "code",
      "source": "prices_with_stations[prices_with_stations['brand'].isnull()].head()",
      "execution_count": 43,
      "outputs": [
        {
          "output_type": "execute_result",
          "execution_count": 43,
          "data": {
            "text/plain": "     station_id        date gas_type  zip_code   latitude  longitude  \\\n729     1000013  2019-01-01      E10      1000  46.198518   5.243506   \n730     1000013  2019-01-01   Gazole      1000  46.198518   5.243506   \n731     1000013  2019-01-01     SP98      1000  46.198518   5.243506   \n732     1000013  2019-01-02      E10      1000  46.198518   5.243506   \n733     1000013  2019-01-02   Gazole      1000  46.198518   5.243506   \n\n    location_type  price    weekday department_pointer brand name  \\\n729          Road  1.319    Tuesday               FR,1   NaN  NaN   \n730          Road  1.347    Tuesday               FR,1   NaN  NaN   \n731          Road  1.409    Tuesday               FR,1   NaN  NaN   \n732          Road  1.319  Wednesday               FR,1   NaN  NaN   \n733          Road  1.347  Wednesday               FR,1   NaN  NaN   \n\n     ref_latitude  ref_longitude  \n729           NaN            NaN  \n730           NaN            NaN  \n731           NaN            NaN  \n732           NaN            NaN  \n733           NaN            NaN  ",
            "text/html": "<div>\n<table border=\"1\" class=\"dataframe\">\n  <thead>\n    <tr style=\"text-align: right;\">\n      <th></th>\n      <th>station_id</th>\n      <th>date</th>\n      <th>gas_type</th>\n      <th>zip_code</th>\n      <th>latitude</th>\n      <th>longitude</th>\n      <th>location_type</th>\n      <th>price</th>\n      <th>weekday</th>\n      <th>department_pointer</th>\n      <th>brand</th>\n      <th>name</th>\n      <th>ref_latitude</th>\n      <th>ref_longitude</th>\n    </tr>\n  </thead>\n  <tbody>\n    <tr>\n      <th>729</th>\n      <td>1000013</td>\n      <td>2019-01-01</td>\n      <td>E10</td>\n      <td>1000</td>\n      <td>46.198518</td>\n      <td>5.243506</td>\n      <td>Road</td>\n      <td>1.319</td>\n      <td>Tuesday</td>\n      <td>FR,1</td>\n      <td>NaN</td>\n      <td>NaN</td>\n      <td>NaN</td>\n      <td>NaN</td>\n    </tr>\n    <tr>\n      <th>730</th>\n      <td>1000013</td>\n      <td>2019-01-01</td>\n      <td>Gazole</td>\n      <td>1000</td>\n      <td>46.198518</td>\n      <td>5.243506</td>\n      <td>Road</td>\n      <td>1.347</td>\n      <td>Tuesday</td>\n      <td>FR,1</td>\n      <td>NaN</td>\n      <td>NaN</td>\n      <td>NaN</td>\n      <td>NaN</td>\n    </tr>\n    <tr>\n      <th>731</th>\n      <td>1000013</td>\n      <td>2019-01-01</td>\n      <td>SP98</td>\n      <td>1000</td>\n      <td>46.198518</td>\n      <td>5.243506</td>\n      <td>Road</td>\n      <td>1.409</td>\n      <td>Tuesday</td>\n      <td>FR,1</td>\n      <td>NaN</td>\n      <td>NaN</td>\n      <td>NaN</td>\n      <td>NaN</td>\n    </tr>\n    <tr>\n      <th>732</th>\n      <td>1000013</td>\n      <td>2019-01-02</td>\n      <td>E10</td>\n      <td>1000</td>\n      <td>46.198518</td>\n      <td>5.243506</td>\n      <td>Road</td>\n      <td>1.319</td>\n      <td>Wednesday</td>\n      <td>FR,1</td>\n      <td>NaN</td>\n      <td>NaN</td>\n      <td>NaN</td>\n      <td>NaN</td>\n    </tr>\n    <tr>\n      <th>733</th>\n      <td>1000013</td>\n      <td>2019-01-02</td>\n      <td>Gazole</td>\n      <td>1000</td>\n      <td>46.198518</td>\n      <td>5.243506</td>\n      <td>Road</td>\n      <td>1.347</td>\n      <td>Wednesday</td>\n      <td>FR,1</td>\n      <td>NaN</td>\n      <td>NaN</td>\n      <td>NaN</td>\n      <td>NaN</td>\n    </tr>\n  </tbody>\n</table>\n</div>"
          },
          "metadata": {}
        }
      ]
    },
    {
      "metadata": {},
      "cell_type": "markdown",
      "source": "Since our data set will be used for visualization, it is better to replace the blanks with a more human-friendly value. We don't touch `ref_latitude` and `ref_longitude`, they are numeric fields and there is no meaningful value to substitute with."
    },
    {
      "metadata": {
        "trusted": true
      },
      "cell_type": "code",
      "source": "prices_with_stations = prices_with_stations.fillna(value={\n    'brand': 'Unknown',\n    'name': 'Unknown'\n})",
      "execution_count": 44,
      "outputs": []
    },
    {
      "metadata": {
        "trusted": true
      },
      "cell_type": "code",
      "source": "# A quick check\nprices_with_stations[prices_with_stations['brand'].isnull()].head()",
      "execution_count": 45,
      "outputs": [
        {
          "output_type": "execute_result",
          "execution_count": 45,
          "data": {
            "text/plain": "Empty DataFrame\nColumns: [station_id, date, gas_type, zip_code, latitude, longitude, location_type, price, weekday, department_pointer, brand, name, ref_latitude, ref_longitude]\nIndex: []",
            "text/html": "<div>\n<table border=\"1\" class=\"dataframe\">\n  <thead>\n    <tr style=\"text-align: right;\">\n      <th></th>\n      <th>station_id</th>\n      <th>date</th>\n      <th>gas_type</th>\n      <th>zip_code</th>\n      <th>latitude</th>\n      <th>longitude</th>\n      <th>location_type</th>\n      <th>price</th>\n      <th>weekday</th>\n      <th>department_pointer</th>\n      <th>brand</th>\n      <th>name</th>\n      <th>ref_latitude</th>\n      <th>ref_longitude</th>\n    </tr>\n  </thead>\n  <tbody>\n  </tbody>\n</table>\n</div>"
          },
          "metadata": {}
        }
      ]
    },
    {
      "metadata": {
        "trusted": true
      },
      "cell_type": "code",
      "source": "# A quick check (bis)\nprices_with_stations[prices_with_stations['brand'] == 'Unknown'].head()",
      "execution_count": 46,
      "outputs": [
        {
          "output_type": "execute_result",
          "execution_count": 46,
          "data": {
            "text/plain": "     station_id        date gas_type  zip_code   latitude  longitude  \\\n729     1000013  2019-01-01      E10      1000  46.198518   5.243506   \n730     1000013  2019-01-01   Gazole      1000  46.198518   5.243506   \n731     1000013  2019-01-01     SP98      1000  46.198518   5.243506   \n732     1000013  2019-01-02      E10      1000  46.198518   5.243506   \n733     1000013  2019-01-02   Gazole      1000  46.198518   5.243506   \n\n    location_type  price    weekday department_pointer    brand     name  \\\n729          Road  1.319    Tuesday               FR,1  Unknown  Unknown   \n730          Road  1.347    Tuesday               FR,1  Unknown  Unknown   \n731          Road  1.409    Tuesday               FR,1  Unknown  Unknown   \n732          Road  1.319  Wednesday               FR,1  Unknown  Unknown   \n733          Road  1.347  Wednesday               FR,1  Unknown  Unknown   \n\n     ref_latitude  ref_longitude  \n729           NaN            NaN  \n730           NaN            NaN  \n731           NaN            NaN  \n732           NaN            NaN  \n733           NaN            NaN  ",
            "text/html": "<div>\n<table border=\"1\" class=\"dataframe\">\n  <thead>\n    <tr style=\"text-align: right;\">\n      <th></th>\n      <th>station_id</th>\n      <th>date</th>\n      <th>gas_type</th>\n      <th>zip_code</th>\n      <th>latitude</th>\n      <th>longitude</th>\n      <th>location_type</th>\n      <th>price</th>\n      <th>weekday</th>\n      <th>department_pointer</th>\n      <th>brand</th>\n      <th>name</th>\n      <th>ref_latitude</th>\n      <th>ref_longitude</th>\n    </tr>\n  </thead>\n  <tbody>\n    <tr>\n      <th>729</th>\n      <td>1000013</td>\n      <td>2019-01-01</td>\n      <td>E10</td>\n      <td>1000</td>\n      <td>46.198518</td>\n      <td>5.243506</td>\n      <td>Road</td>\n      <td>1.319</td>\n      <td>Tuesday</td>\n      <td>FR,1</td>\n      <td>Unknown</td>\n      <td>Unknown</td>\n      <td>NaN</td>\n      <td>NaN</td>\n    </tr>\n    <tr>\n      <th>730</th>\n      <td>1000013</td>\n      <td>2019-01-01</td>\n      <td>Gazole</td>\n      <td>1000</td>\n      <td>46.198518</td>\n      <td>5.243506</td>\n      <td>Road</td>\n      <td>1.347</td>\n      <td>Tuesday</td>\n      <td>FR,1</td>\n      <td>Unknown</td>\n      <td>Unknown</td>\n      <td>NaN</td>\n      <td>NaN</td>\n    </tr>\n    <tr>\n      <th>731</th>\n      <td>1000013</td>\n      <td>2019-01-01</td>\n      <td>SP98</td>\n      <td>1000</td>\n      <td>46.198518</td>\n      <td>5.243506</td>\n      <td>Road</td>\n      <td>1.409</td>\n      <td>Tuesday</td>\n      <td>FR,1</td>\n      <td>Unknown</td>\n      <td>Unknown</td>\n      <td>NaN</td>\n      <td>NaN</td>\n    </tr>\n    <tr>\n      <th>732</th>\n      <td>1000013</td>\n      <td>2019-01-02</td>\n      <td>E10</td>\n      <td>1000</td>\n      <td>46.198518</td>\n      <td>5.243506</td>\n      <td>Road</td>\n      <td>1.319</td>\n      <td>Wednesday</td>\n      <td>FR,1</td>\n      <td>Unknown</td>\n      <td>Unknown</td>\n      <td>NaN</td>\n      <td>NaN</td>\n    </tr>\n    <tr>\n      <th>733</th>\n      <td>1000013</td>\n      <td>2019-01-02</td>\n      <td>Gazole</td>\n      <td>1000</td>\n      <td>46.198518</td>\n      <td>5.243506</td>\n      <td>Road</td>\n      <td>1.347</td>\n      <td>Wednesday</td>\n      <td>FR,1</td>\n      <td>Unknown</td>\n      <td>Unknown</td>\n      <td>NaN</td>\n      <td>NaN</td>\n    </tr>\n  </tbody>\n</table>\n</div>"
          },
          "metadata": {}
        }
      ]
    },
    {
      "metadata": {},
      "cell_type": "markdown",
      "source": "The only thing left is to save the result."
    },
    {
      "metadata": {
        "trusted": true
      },
      "cell_type": "code",
      "source": "prices_with_stations.to_csv('output/prices_with_stations.csv', sep=';', index=False)",
      "execution_count": 47,
      "outputs": []
    },
    {
      "metadata": {},
      "cell_type": "markdown",
      "source": "# Bonus track: check the consistency of the coordinates"
    },
    {
      "metadata": {},
      "cell_type": "markdown",
      "source": "Remember we have 2 sets of coordinates: one coming from `stations`, and one from `prices`. Are they identical? After all, the station ID's are the same (we could merge on them) so we could assume that the coordinates come from a common database. However..."
    },
    {
      "metadata": {
        "trusted": true
      },
      "cell_type": "code",
      "source": "# We will use NumPy, which provides efficient implementations of mathematical functions\nimport numpy as np\n\n# We will make some plots. Tell Jupyter to display them inline with the notebook\n%matplotlib inline",
      "execution_count": 48,
      "outputs": [
        {
          "output_type": "stream",
          "text": "/home/nbuser/anaconda3_420/lib/python3.5/site-packages/matplotlib/font_manager.py:281: UserWarning: Matplotlib is building the font cache using fc-list. This may take a moment.\n  'Matplotlib is building the font cache using fc-list. '\n",
          "name": "stderr"
        }
      ]
    },
    {
      "metadata": {
        "trusted": true
      },
      "cell_type": "code",
      "source": "def distance(row):\n    # Use the haversine formula (https://www.movable-type.co.uk/scripts/latlong.html)\n    # The distance is returned in km\n    lat1, lat2 = np.pi * row.latitude / 180., np.pi * row.ref_latitude / 180.\n    d_lat = lat1 - lat2\n    d_long = np.pi * (row.longitude - row.ref_longitude) / 180.\n    a = np.sin(d_lat / 2.)**2 + np.cos(lat1) * np.cos(lat2) * np.sin(d_long / 2.)**2\n    c = 2. * np.arctan2(np.sqrt(a), np.sqrt(1. - a))\n    return 6371. * c\n\n# Our prices_with_stations dataset is big, but in the end we're only interested in the stations themselves, whose\n# attributes are repeated for every date. So we just take one record per station\nstations_from_prices = prices_with_stations.groupby('station_id').first()\n\n# Compute distances, and remove null values (they happen when coordinates are missing, because of the left join)\ndiscrepancies = stations_from_prices.apply(distance, axis=1).dropna()\ndiscrepancies.sort_values(ascending=False).head(20)",
      "execution_count": 50,
      "outputs": [
        {
          "output_type": "execute_result",
          "execution_count": 50,
          "data": {
            "text/plain": "station_id\n20213004    850.243430\n41500001    354.111842\n81500005    275.676165\n33720007    165.865203\n51400008    147.883493\n51400007    147.877235\n86220003    143.083108\n5350001     112.601381\n76890001     60.674078\n14520003     45.521352\n33410003     35.848621\n91410004     31.249518\n77515001     13.058104\n43500001     13.004602\n69220005     12.458579\n94012001     12.079426\n78680002     10.693308\n70400001     10.672187\n42030001      9.482122\n85600002      8.962123\ndtype: float64"
          },
          "metadata": {}
        }
      ]
    },
    {
      "metadata": {},
      "cell_type": "markdown",
      "source": "So the discrepancy can be as high as 850 km! Note that because of the `groupby` operation, the `discrepancies` series is indexed by the `station_id`, which is convenient. Hence the biggest discrepancy is for station 20213004."
    },
    {
      "metadata": {
        "trusted": true
      },
      "cell_type": "code",
      "source": "# `.iloc[0]` means take the first record that comes out of the query\nprices_with_stations[prices_with_stations['station_id'] == 20213004].iloc[0]",
      "execution_count": 51,
      "outputs": [
        {
          "output_type": "execute_result",
          "execution_count": 51,
          "data": {
            "text/plain": "station_id                    20213004\ndate                        2019-02-18\ngas_type                        Gazole\nzip_code                         20213\nlatitude                        42.445\nlongitude                        9.508\nlocation_type                     Road\nprice                             1.48\nweekday                         Monday\ndepartment_pointer               FR,20\nbrand                             VITO\nname                  Station SARL AGC\nref_latitude                   49.5041\nref_longitude                  5.26738\nName: 148128, dtype: object"
          },
          "metadata": {}
        }
      ]
    },
    {
      "metadata": {
        "trusted": true
      },
      "cell_type": "code",
      "source": "# A quick overview of the distribution of the discrepancies\n# We only consider those that are higher than 5 km, otherwise the plot is squashed by the high number of smaller ones\ndiscrepancies[discrepancies > 5].hist(bins=100)",
      "execution_count": 52,
      "outputs": [
        {
          "output_type": "execute_result",
          "execution_count": 52,
          "data": {
            "text/plain": "<matplotlib.axes._subplots.AxesSubplot at 0x7f5f87fd9240>"
          },
          "metadata": {}
        },
        {
          "output_type": "display_data",
          "data": {
            "image/png": "[encoded data removed]",
            "text/plain": "<matplotlib.figure.Figure at 0x7f5f87fff940>"
          },
          "metadata": {}
        }
      ]
    },
    {
      "metadata": {
        "trusted": false
      },
      "cell_type": "code",
      "source": "",
      "execution_count": null,
      "outputs": []
    }
  ],
  "metadata": {
    "kernelspec": {
      "name": "python3",
      "display_name": "Python 3",
      "language": "python"
    },
    "language_info": {
      "mimetype": "text/x-python",
      "nbconvert_exporter": "python",
      "name": "python",
      "file_extension": ".py",
      "version": "3.5.4",
      "pygments_lexer": "ipython3",
      "codemirror_mode": {
        "version": 3,
        "name": "ipython"
      }
    }
  },
  "nbformat": 4,
  "nbformat_minor": 2
}