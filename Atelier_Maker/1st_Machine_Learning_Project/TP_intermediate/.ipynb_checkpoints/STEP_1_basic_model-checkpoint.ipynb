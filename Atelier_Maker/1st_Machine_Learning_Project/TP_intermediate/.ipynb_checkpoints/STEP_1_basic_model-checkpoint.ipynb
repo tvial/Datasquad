{
 "cells": [
  {
   "cell_type": "markdown",
   "metadata": {},
   "source": [
    "# Import packages\n",
    "A package (or library) contains several functions useful in a particular context. Here we import some packages that are generally used in science projects:\n",
    "\n",
    "- pandas: to manipulate datasets\n",
    "- numpy: to apply mathematical functions\n",
    "- matplotlib: to display graphs\n",
    "- sklearn: contains a lot of machine learning functions and models"
   ]
  },
  {
   "cell_type": "code",
   "execution_count": 46,
   "metadata": {},
   "outputs": [],
   "source": [
    "# import packages\n",
    "import pandas as pd\n",
    "import numpy as np\n",
    "import matplotlib.pyplot as plt\n",
    "\n",
    "from sklearn.model_selection import train_test_split\n",
    "from sklearn.metrics import mean_absolute_error\n",
    "\n",
    "# import model\n",
    "from sklearn.linear_model import LinearRegression\n",
    "\n",
    "# Set some jupyter display options\n",
    "from IPython.display import display\n",
    "pd.options.display.max_columns = None"
   ]
  },
  {
   "cell_type": "markdown",
   "metadata": {},
   "source": [
    "# Import data\n",
    "In this part, we use the pandas library in order to import the data into our notebook. The data is then saved into a dataframe called *dataset_bike*"
   ]
  },
  {
   "cell_type": "code",
   "execution_count": 59,
   "metadata": {},
   "outputs": [],
   "source": [
    "# load data into a dataframe\n",
    "dataset_bike = pd.read_csv(\"###CODE HERE###\",\n",
    "                           sep = ',',\n",
    "                           header=0,\n",
    "                           skip_blank_lines=True,\n",
    "                           index_col=0)"
   ]
  },
  {
   "cell_type": "code",
   "execution_count": 60,
   "metadata": {},
   "outputs": [
    {
     "name": "stdout",
     "output_type": "stream",
     "text": [
      "The shape of the dataframe is : (12166, 15)\n"
     ]
    }
   ],
   "source": [
    "# print the shape of this dataframe: (nb of rows, nb of columns)\n",
    "print(\"The shape of the dataframe is :\", dataset_bike.shape)"
   ]
  },
  {
   "cell_type": "code",
   "execution_count": 61,
   "metadata": {},
   "outputs": [
    {
     "data": {
      "text/html": [
       "<div>\n",
       "<style scoped>\n",
       "    .dataframe tbody tr th:only-of-type {\n",
       "        vertical-align: middle;\n",
       "    }\n",
       "\n",
       "    .dataframe tbody tr th {\n",
       "        vertical-align: top;\n",
       "    }\n",
       "\n",
       "    .dataframe thead th {\n",
       "        text-align: right;\n",
       "    }\n",
       "</style>\n",
       "<table border=\"1\" class=\"dataframe\">\n",
       "  <thead>\n",
       "    <tr style=\"text-align: right;\">\n",
       "      <th></th>\n",
       "      <th>instant</th>\n",
       "      <th>dteday</th>\n",
       "      <th>season</th>\n",
       "      <th>yr</th>\n",
       "      <th>mnth</th>\n",
       "      <th>hr</th>\n",
       "      <th>holiday</th>\n",
       "      <th>weekday</th>\n",
       "      <th>workingday</th>\n",
       "      <th>weathersit</th>\n",
       "      <th>temp</th>\n",
       "      <th>atemp</th>\n",
       "      <th>hum</th>\n",
       "      <th>windspeed</th>\n",
       "      <th>cnt</th>\n",
       "    </tr>\n",
       "  </thead>\n",
       "  <tbody>\n",
       "    <tr>\n",
       "      <th>0</th>\n",
       "      <td>1</td>\n",
       "      <td>2011-01-01</td>\n",
       "      <td>1</td>\n",
       "      <td>0</td>\n",
       "      <td>1</td>\n",
       "      <td>0</td>\n",
       "      <td>0</td>\n",
       "      <td>6</td>\n",
       "      <td>0</td>\n",
       "      <td>1</td>\n",
       "      <td>0.24</td>\n",
       "      <td>0.2879</td>\n",
       "      <td>0.81</td>\n",
       "      <td>0.0</td>\n",
       "      <td>16</td>\n",
       "    </tr>\n",
       "    <tr>\n",
       "      <th>1</th>\n",
       "      <td>2</td>\n",
       "      <td>2011-01-01</td>\n",
       "      <td>1</td>\n",
       "      <td>0</td>\n",
       "      <td>1</td>\n",
       "      <td>1</td>\n",
       "      <td>0</td>\n",
       "      <td>6</td>\n",
       "      <td>0</td>\n",
       "      <td>1</td>\n",
       "      <td>0.22</td>\n",
       "      <td>0.2727</td>\n",
       "      <td>0.80</td>\n",
       "      <td>0.0</td>\n",
       "      <td>40</td>\n",
       "    </tr>\n",
       "    <tr>\n",
       "      <th>2</th>\n",
       "      <td>3</td>\n",
       "      <td>2011-01-01</td>\n",
       "      <td>1</td>\n",
       "      <td>0</td>\n",
       "      <td>1</td>\n",
       "      <td>2</td>\n",
       "      <td>0</td>\n",
       "      <td>6</td>\n",
       "      <td>0</td>\n",
       "      <td>1</td>\n",
       "      <td>0.22</td>\n",
       "      <td>0.2727</td>\n",
       "      <td>0.80</td>\n",
       "      <td>0.0</td>\n",
       "      <td>32</td>\n",
       "    </tr>\n",
       "    <tr>\n",
       "      <th>3</th>\n",
       "      <td>4</td>\n",
       "      <td>2011-01-01</td>\n",
       "      <td>1</td>\n",
       "      <td>0</td>\n",
       "      <td>1</td>\n",
       "      <td>3</td>\n",
       "      <td>0</td>\n",
       "      <td>6</td>\n",
       "      <td>0</td>\n",
       "      <td>1</td>\n",
       "      <td>0.24</td>\n",
       "      <td>0.2879</td>\n",
       "      <td>0.75</td>\n",
       "      <td>0.0</td>\n",
       "      <td>13</td>\n",
       "    </tr>\n",
       "    <tr>\n",
       "      <th>4</th>\n",
       "      <td>5</td>\n",
       "      <td>2011-01-01</td>\n",
       "      <td>1</td>\n",
       "      <td>0</td>\n",
       "      <td>1</td>\n",
       "      <td>4</td>\n",
       "      <td>0</td>\n",
       "      <td>6</td>\n",
       "      <td>0</td>\n",
       "      <td>1</td>\n",
       "      <td>0.24</td>\n",
       "      <td>0.2879</td>\n",
       "      <td>0.75</td>\n",
       "      <td>0.0</td>\n",
       "      <td>1</td>\n",
       "    </tr>\n",
       "  </tbody>\n",
       "</table>\n",
       "</div>"
      ],
      "text/plain": [
       "   instant      dteday  season  yr  mnth  hr  holiday  weekday  workingday  \\\n",
       "0        1  2011-01-01       1   0     1   0        0        6           0   \n",
       "1        2  2011-01-01       1   0     1   1        0        6           0   \n",
       "2        3  2011-01-01       1   0     1   2        0        6           0   \n",
       "3        4  2011-01-01       1   0     1   3        0        6           0   \n",
       "4        5  2011-01-01       1   0     1   4        0        6           0   \n",
       "\n",
       "   weathersit  temp   atemp   hum  windspeed  cnt  \n",
       "0           1  0.24  0.2879  0.81        0.0   16  \n",
       "1           1  0.22  0.2727  0.80        0.0   40  \n",
       "2           1  0.22  0.2727  0.80        0.0   32  \n",
       "3           1  0.24  0.2879  0.75        0.0   13  \n",
       "4           1  0.24  0.2879  0.75        0.0    1  "
      ]
     },
     "execution_count": 61,
     "metadata": {},
     "output_type": "execute_result"
    }
   ],
   "source": [
    "# show the first rows of the dataframe\n",
    "dataset_bike.head()"
   ]
  },
  {
   "cell_type": "markdown",
   "metadata": {},
   "source": [
    "The goal of this project is to be able to accuratly predict the number of bike that are rented at a given hour. It is the variable **cnt**. To do that, we have access to 2 years of records, including several features such as:\n",
    "- meteorological measures (temp, atemp, hum, weathersit, windspeed)\n",
    "- datetime information (hr, holiday, weekday, yr, mth..)\n",
    "\n",
    "**GOAL raised by your client**: Your model must be able to predict the hourly demand on random samples with a MAE **smaller than 30 bikes**...\n",
    "\n",
    "MAE: Mean Absolute Error\n",
    "\n",
    "$$MAE=\\frac{1}{n}\\sum_{i=0}^n|pred_i- target_i|$$\n",
    "\n",
    "With:\n",
    "- $n$: number of samples\n",
    "- $pred_i$: predicted demand for sample i\n",
    "- $target_i$: real demand for sample i\n"
   ]
  },
  {
   "cell_type": "markdown",
   "metadata": {},
   "source": [
    "# Preprocessing\n",
    "In this part, you will prepare your dataframe so it can be ingested by a machine learning model. The main idea is:\n",
    "- to get rid or replace missing values (you are lucky there is no missing values in this dataset): this is called **missing values imputation**\n",
    "- to keep only numerical variables. Categorical variables have to be encoded: this called **dummification**\n",
    "- if possible try to create new variables from the ones that already exist. These new variables can improve predictions if they bring *signal*: this is called **feature engineering**\n",
    "- to split your dataframe in 2 parts. A first one will be used for **training** your model, the other one will be for **testing the performance** of this model\n",
    "\n",
    "Now, you are still in the first step of your project. So, let's keep it as simple as possible! You will only do dummification for the moment"
   ]
  },
  {
   "cell_type": "markdown",
   "metadata": {},
   "source": [
    "## Dummification\n",
    "\n",
    "The dummification is a function that transpose a column to a set of columns in a dataframe, such as:\n",
    "\n",
    "| Column |\n",
    "|------|\n",
    "|   a  |\n",
    "|   b  |\n",
    "|   b  |\n",
    "|   c  |\n",
    "|   a  |\n",
    "\n",
    "becomes \n",
    "\n",
    "| is_a | is_b | is_c |\n",
    "|------|------|------|\n",
    "|   1  |   0  |   0  |\n",
    "|   0  |   1  |   0  |\n",
    "|   0  |   1  |   0  |\n",
    "|   0  |   0  |   1  |\n",
    "|   1  |   0  |   0  |\n",
    "\n",
    "All the textual variables have to be dummified in order to keep only numerical values in our dataset. We can also apply dummification to numerical variables if there is not a relational ranking among the values. Here we will apply this function to *weathersit* and *season*"
   ]
  },
  {
   "cell_type": "code",
   "execution_count": 50,
   "metadata": {},
   "outputs": [],
   "source": [
    "# define a list that contain all the columns to dummify: wheathersit and season\n",
    "columns_to_dummify = [\"weathersit\", \"###CODE HERE###\"]\n",
    "\n",
    "# create a copy of dataset_bike. This allows to keep it in memory and work on a new dataframe!\n",
    "dataset_bike_dummified = dataset_bike.copy()\n",
    "\n",
    "# Now let's apply dummification\n",
    "for col in columns_to_dummify:\n",
    "    dataset_bike_dummified = pd.concat([dataset_bike_dummified, pd.get_dummies(dataset_bike[col], prefix=col)], axis=1)\n",
    "    dataset_bike_dummified = dataset_bike_dummified.drop(col, axis=1)"
   ]
  },
  {
   "cell_type": "code",
   "execution_count": 51,
   "metadata": {},
   "outputs": [
    {
     "data": {
      "text/html": [
       "<div>\n",
       "<style scoped>\n",
       "    .dataframe tbody tr th:only-of-type {\n",
       "        vertical-align: middle;\n",
       "    }\n",
       "\n",
       "    .dataframe tbody tr th {\n",
       "        vertical-align: top;\n",
       "    }\n",
       "\n",
       "    .dataframe thead th {\n",
       "        text-align: right;\n",
       "    }\n",
       "</style>\n",
       "<table border=\"1\" class=\"dataframe\">\n",
       "  <thead>\n",
       "    <tr style=\"text-align: right;\">\n",
       "      <th></th>\n",
       "      <th>instant</th>\n",
       "      <th>dteday</th>\n",
       "      <th>yr</th>\n",
       "      <th>mnth</th>\n",
       "      <th>hr</th>\n",
       "      <th>holiday</th>\n",
       "      <th>weekday</th>\n",
       "      <th>workingday</th>\n",
       "      <th>temp</th>\n",
       "      <th>atemp</th>\n",
       "      <th>hum</th>\n",
       "      <th>windspeed</th>\n",
       "      <th>cnt</th>\n",
       "      <th>weathersit_1</th>\n",
       "      <th>weathersit_2</th>\n",
       "      <th>weathersit_3</th>\n",
       "      <th>weathersit_4</th>\n",
       "      <th>season_1</th>\n",
       "      <th>season_2</th>\n",
       "      <th>season_3</th>\n",
       "      <th>season_4</th>\n",
       "    </tr>\n",
       "  </thead>\n",
       "  <tbody>\n",
       "    <tr>\n",
       "      <th>0</th>\n",
       "      <td>1</td>\n",
       "      <td>2011-01-01</td>\n",
       "      <td>0</td>\n",
       "      <td>1</td>\n",
       "      <td>0</td>\n",
       "      <td>0</td>\n",
       "      <td>6</td>\n",
       "      <td>0</td>\n",
       "      <td>0.24</td>\n",
       "      <td>0.2879</td>\n",
       "      <td>0.81</td>\n",
       "      <td>0.0</td>\n",
       "      <td>16</td>\n",
       "      <td>1</td>\n",
       "      <td>0</td>\n",
       "      <td>0</td>\n",
       "      <td>0</td>\n",
       "      <td>1</td>\n",
       "      <td>0</td>\n",
       "      <td>0</td>\n",
       "      <td>0</td>\n",
       "    </tr>\n",
       "    <tr>\n",
       "      <th>1</th>\n",
       "      <td>2</td>\n",
       "      <td>2011-01-01</td>\n",
       "      <td>0</td>\n",
       "      <td>1</td>\n",
       "      <td>1</td>\n",
       "      <td>0</td>\n",
       "      <td>6</td>\n",
       "      <td>0</td>\n",
       "      <td>0.22</td>\n",
       "      <td>0.2727</td>\n",
       "      <td>0.80</td>\n",
       "      <td>0.0</td>\n",
       "      <td>40</td>\n",
       "      <td>1</td>\n",
       "      <td>0</td>\n",
       "      <td>0</td>\n",
       "      <td>0</td>\n",
       "      <td>1</td>\n",
       "      <td>0</td>\n",
       "      <td>0</td>\n",
       "      <td>0</td>\n",
       "    </tr>\n",
       "    <tr>\n",
       "      <th>2</th>\n",
       "      <td>3</td>\n",
       "      <td>2011-01-01</td>\n",
       "      <td>0</td>\n",
       "      <td>1</td>\n",
       "      <td>2</td>\n",
       "      <td>0</td>\n",
       "      <td>6</td>\n",
       "      <td>0</td>\n",
       "      <td>0.22</td>\n",
       "      <td>0.2727</td>\n",
       "      <td>0.80</td>\n",
       "      <td>0.0</td>\n",
       "      <td>32</td>\n",
       "      <td>1</td>\n",
       "      <td>0</td>\n",
       "      <td>0</td>\n",
       "      <td>0</td>\n",
       "      <td>1</td>\n",
       "      <td>0</td>\n",
       "      <td>0</td>\n",
       "      <td>0</td>\n",
       "    </tr>\n",
       "    <tr>\n",
       "      <th>3</th>\n",
       "      <td>4</td>\n",
       "      <td>2011-01-01</td>\n",
       "      <td>0</td>\n",
       "      <td>1</td>\n",
       "      <td>3</td>\n",
       "      <td>0</td>\n",
       "      <td>6</td>\n",
       "      <td>0</td>\n",
       "      <td>0.24</td>\n",
       "      <td>0.2879</td>\n",
       "      <td>0.75</td>\n",
       "      <td>0.0</td>\n",
       "      <td>13</td>\n",
       "      <td>1</td>\n",
       "      <td>0</td>\n",
       "      <td>0</td>\n",
       "      <td>0</td>\n",
       "      <td>1</td>\n",
       "      <td>0</td>\n",
       "      <td>0</td>\n",
       "      <td>0</td>\n",
       "    </tr>\n",
       "    <tr>\n",
       "      <th>4</th>\n",
       "      <td>5</td>\n",
       "      <td>2011-01-01</td>\n",
       "      <td>0</td>\n",
       "      <td>1</td>\n",
       "      <td>4</td>\n",
       "      <td>0</td>\n",
       "      <td>6</td>\n",
       "      <td>0</td>\n",
       "      <td>0.24</td>\n",
       "      <td>0.2879</td>\n",
       "      <td>0.75</td>\n",
       "      <td>0.0</td>\n",
       "      <td>1</td>\n",
       "      <td>1</td>\n",
       "      <td>0</td>\n",
       "      <td>0</td>\n",
       "      <td>0</td>\n",
       "      <td>1</td>\n",
       "      <td>0</td>\n",
       "      <td>0</td>\n",
       "      <td>0</td>\n",
       "    </tr>\n",
       "  </tbody>\n",
       "</table>\n",
       "</div>"
      ],
      "text/plain": [
       "   instant      dteday  yr  mnth  hr  holiday  weekday  workingday  temp  \\\n",
       "0        1  2011-01-01   0     1   0        0        6           0  0.24   \n",
       "1        2  2011-01-01   0     1   1        0        6           0  0.22   \n",
       "2        3  2011-01-01   0     1   2        0        6           0  0.22   \n",
       "3        4  2011-01-01   0     1   3        0        6           0  0.24   \n",
       "4        5  2011-01-01   0     1   4        0        6           0  0.24   \n",
       "\n",
       "    atemp   hum  windspeed  cnt  weathersit_1  weathersit_2  weathersit_3  \\\n",
       "0  0.2879  0.81        0.0   16             1             0             0   \n",
       "1  0.2727  0.80        0.0   40             1             0             0   \n",
       "2  0.2727  0.80        0.0   32             1             0             0   \n",
       "3  0.2879  0.75        0.0   13             1             0             0   \n",
       "4  0.2879  0.75        0.0    1             1             0             0   \n",
       "\n",
       "   weathersit_4  season_1  season_2  season_3  season_4  \n",
       "0             0         1         0         0         0  \n",
       "1             0         1         0         0         0  \n",
       "2             0         1         0         0         0  \n",
       "3             0         1         0         0         0  \n",
       "4             0         1         0         0         0  "
      ]
     },
     "execution_count": 51,
     "metadata": {},
     "output_type": "execute_result"
    }
   ],
   "source": [
    "# print the first values of our new dataframe\n",
    "dataset_bike_dummified.head()"
   ]
  },
  {
   "cell_type": "markdown",
   "metadata": {},
   "source": [
    "## Split Train and Test\n",
    "Now, you have to choose which features will be taken as input in your model, and which one is the **target**.\n",
    "Then, let's split your dataframe into train and test. Usually, we use the letter **X** to talk about the features, and **y** for the target"
   ]
  },
  {
   "cell_type": "code",
   "execution_count": 52,
   "metadata": {},
   "outputs": [],
   "source": [
    "# let's define a variable that contains the list of features to keep for the model\n",
    "features_training = [\"yr\", \"mnth\", \"hr\", \"holiday\", \"weekday\", \"workingday\", \"temp\", \"atemp\", \"hum\", \"windspeed\",\n",
    "                    \"weathersit_1\", \"weathersit_2\", \"weathersit_3\", \"weathersit_4\", \"season_1\", \"season_2\",\n",
    "                     \"season_3\", \"season_4\"]\n",
    "\n",
    "# Now define which is your target\n",
    "target_feature = \"###CODE HERE###\"\n"
   ]
  },
  {
   "cell_type": "code",
   "execution_count": 53,
   "metadata": {},
   "outputs": [
    {
     "name": "stdout",
     "output_type": "stream",
     "text": [
      "Shape X_train : (9732, 18)\n",
      "Shape X_test : (2434, 18)\n",
      "Shape y_train : (9732,)\n",
      "Shape y_test : (2434,)\n"
     ]
    }
   ],
   "source": [
    "# split your dataframe randomly in order to keep 80% of the samples for training, 20% for testing (also called evaluation).\n",
    "X_train, X_test, y_train, y_test = train_test_split(dataset_bike_dummified[features_training],\n",
    "                                                    dataset_bike_dummified[target_feature],\n",
    "                                                    test_size=0.2, random_state= 1234)\n",
    "\n",
    "# print the shapes\n",
    "print(\"Shape X_train :\", X_train.shape)\n",
    "print(\"Shape X_test :\", \"###CODE HERE###\".shape)\n",
    "print(\"Shape y_train :\", y_train.shape)\n",
    "print(\"Shape y_test :\", \"###CODE HERE###\".shape)"
   ]
  },
  {
   "cell_type": "markdown",
   "metadata": {},
   "source": [
    "# Training\n",
    "Now, your dataframe is ready! You have to choose a model and train it on your data.\n",
    "Let's take only one type of model for the moment, a simple one: the linear regression.\n",
    "\n",
    "Training your model is pretty simple thanks to the scikit-learn package! Let's see how it works!"
   ]
  },
  {
   "cell_type": "markdown",
   "metadata": {},
   "source": [
    "### Model: Mutivariate Linear Regression"
   ]
  },
  {
   "cell_type": "code",
   "execution_count": 54,
   "metadata": {},
   "outputs": [
    {
     "data": {
      "text/plain": [
       "LinearRegression(copy_X=True, fit_intercept=False, n_jobs=1, normalize=False)"
      ]
     },
     "execution_count": 54,
     "metadata": {},
     "output_type": "execute_result"
    }
   ],
   "source": [
    "# create an \"empty\" model\n",
    "lreg = LinearRegression(fit_intercept = False)\n",
    "\n",
    "# fit (=train) this model. => this is when the model is looking for the best surface in \n",
    "# a vectorial space that minimise the distance between samples.\n",
    "lreg.fit(X_train ,\"###CODE HERE###\")"
   ]
  },
  {
   "cell_type": "markdown",
   "metadata": {},
   "source": [
    "# Evaluation"
   ]
  },
  {
   "cell_type": "markdown",
   "metadata": {},
   "source": [
    "Great! The model is trained. Now it is time to run an evaluation to see if your model meets the expectations of your client (MAE < 30 bikes)"
   ]
  },
  {
   "cell_type": "code",
   "execution_count": 58,
   "metadata": {},
   "outputs": [
    {
     "name": "stdout",
     "output_type": "stream",
     "text": [
      "MAE Training =  89.00320960813052\n",
      "***** MAE Test =  90.73577183387204  ******\n"
     ]
    }
   ],
   "source": [
    "# Compute predictions on Train\n",
    "lreg_pred_train = lreg.predict(X_train)\n",
    "# Compute predictions on Test: this will be used for evaluation\n",
    "lreg_pred_test = lreg.predict(\"###CODE HERE###\")\n",
    "\n",
    "# Evaluate\n",
    "print(\"MAE Training = \", mean_absolute_error(lreg_pred_train, y_train))\n",
    "print(\"***** MAE Test = \", mean_absolute_error(lreg_pred_test, \"###CODE HERE###\"), \" ******\")"
   ]
  },
  {
   "cell_type": "markdown",
   "metadata": {},
   "source": [
    "**Unfortunatly, it seems that \"MAE Test\" is not small enough to satisfy your client :/.** In the next Notebooks, we will see several methods in order to help you improve your score!"
   ]
  },
  {
   "cell_type": "code",
   "execution_count": null,
   "metadata": {},
   "outputs": [],
   "source": []
  }
 ],
 "metadata": {
  "kernelspec": {
   "display_name": "Python 3",
   "language": "python",
   "name": "python3"
  },
  "language_info": {
   "codemirror_mode": {
    "name": "ipython",
    "version": 3
   },
   "file_extension": ".py",
   "mimetype": "text/x-python",
   "name": "python",
   "nbconvert_exporter": "python",
   "pygments_lexer": "ipython3",
   "version": "3.6.5"
  }
 },
 "nbformat": 4,
 "nbformat_minor": 2
}
